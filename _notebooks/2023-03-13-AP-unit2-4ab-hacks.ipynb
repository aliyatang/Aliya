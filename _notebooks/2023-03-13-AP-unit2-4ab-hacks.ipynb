{
 "cells": [
  {
   "attachments": {},
   "cell_type": "markdown",
   "metadata": {},
   "source": [
    "#  Unit 2.4ab HACKS\n",
    "> Using Programs with Data is focused on SQL and database actions.  Part A focuses on SQLAlchemy and an OOP programming style,\n",
    "- toc: true\n",
    "- categories: [Week 26]\n",
    "- type: ap"
   ]
  },
  {
   "attachments": {},
   "cell_type": "markdown",
   "metadata": {},
   "source": [
    "# Database and SQLAlchemy\n",
    "> In this blog we will explore using programs with data, focused on Databases.  We will use SQLite Database to learn more about using Programs with Data.  ***Use Debugging through these examples to examine Objects created in Code***.\n",
    "\n",
    "- College Board talks about ideas like \n",
    "    - Program Usage. \"iterative and interactive way when processing information\"\n",
    "    - Managing Data.  \"classifying data are part of the process in using programs\", \"data files in a Table\"\n",
    "    - Insight \"insight and knowledge can be obtained from ...  digitally represented information\"\n",
    "    - Filter systems. 'tools for finding information and recognizing patterns\"\n",
    "    - Application. \"the preserve has two databases\", \"an employee wants to count the number of book\"\n",
    "\n",
    "- PBL, Databases, Iterative/OOP\n",
    "    - Iterative. Refers to a sequence of instructions or code being repeated until a specific end result is achieved\n",
    "    - OOP. A computer programming model that organizes software design around data, or objects, rather than functions and logic\n",
    "    - SQL. Structured Query Language, abbreviated as SQL, is a language used in programming, managing, and structuring data \n"
   ]
  },
  {
   "attachments": {},
   "cell_type": "markdown",
   "metadata": {},
   "source": [
    "## Imports and Flask Objects\n",
    "> Defines and key object creations\n",
    "\n",
    "- Comment on where you have observed these working?  Provide a defintion of purpose.\n",
    "    1. Flask app object: I have seen the flask app object being used when we created our databases previously on our flask servers. \n",
    "    2. SQLAlchemy db object: This is also related to the database creations in our flask, talked about above. It is used to work with others data and create our own data. \n"
   ]
  },
  {
   "cell_type": "code",
   "execution_count": 51,
   "metadata": {},
   "outputs": [],
   "source": [
    "\"\"\"\n",
    "These imports define the key objects\n",
    "\"\"\"\n",
    "\n",
    "from flask import Flask\n",
    "from flask_sqlalchemy import SQLAlchemy\n",
    "\n",
    "\"\"\"\n",
    "These object and definitions are used throughout the Jupyter Notebook.\n",
    "\"\"\"\n",
    "\n",
    "# Setup of key Flask object (app)\n",
    "app = Flask(__name__)\n",
    "# Setup SQLAlchemy object and properties for the database (db)\n",
    "database = 'sqlite:///sqlite.db'  # path and filename of database\n",
    "app.config['SQLALCHEMY_TRACK_MODIFICATIONS'] = False\n",
    "app.config['SQLALCHEMY_DATABASE_URI'] = database\n",
    "app.config['SECRET_KEY'] = 'SECRET_KEY'\n",
    "db = SQLAlchemy()\n",
    "\n",
    "\n",
    "# This belongs in place where it runs once per project\n",
    "db.init_app(app)\n"
   ]
  },
  {
   "attachments": {},
   "cell_type": "markdown",
   "metadata": {},
   "source": [
    "## Model Definition"
   ]
  },
  {
   "cell_type": "code",
   "execution_count": 52,
   "metadata": {},
   "outputs": [],
   "source": [
    "\"\"\" database dependencies to support sqlite examples \"\"\"\n",
    "import datetime\n",
    "from datetime import datetime\n",
    "import json\n",
    "\n",
    "from sqlalchemy.exc import IntegrityError\n",
    "\n",
    "\n",
    "''' Tutorial: https://www.sqlalchemy.org/library.html#tutorials, try to get into a Python shell and follow along '''\n",
    "\n",
    "# Define the User class to manage actions in the 'users' table\n",
    "# -- Object Relational Mapping (ORM) is the key concept of SQLAlchemy\n",
    "# -- a.) db.Model is like an inner layer of the onion in ORM\n",
    "# -- b.) User represents data we want to store, something that is built on db.Model\n",
    "# -- c.) SQLAlchemy ORM is layer on top of SQLAlchemy Core, then SQLAlchemy engine, SQL\n",
    "class Movie(db.Model):\n",
    "    __tablename__ = 'movies'  # table name is plural, class name is singular\n",
    "\n",
    "    # Define the User schema with \"vars\" from object\n",
    "    id = db.Column(db.Integer, primary_key=True)\n",
    "    _name = db.Column(db.String(255), unique=True, nullable=False)\n",
    "    _day = db.Column(db.Date)\n",
    "    _rate = db.Column(db.String(255), unique=False, nullable=False)\n",
    "    _comment = db.Column(db.String(255), unique=False, nullable=False)\n",
    "\n",
    "    # constructor of a User object, initializes the instance variables within object (self)\n",
    "    def __init__(self, name, rate, comment, day=datetime.today()):\n",
    "        self._name = name    # variables with self prefix become part of the object, \n",
    "        if isinstance(day, str):  # not a date type     \n",
    "            day = date=datetime.today()\n",
    "        self._day = day\n",
    "        self._rate = rate\n",
    "        self._comment = comment\n",
    "\n",
    "    # a name getter method, extracts name from object\n",
    "    @property\n",
    "    def name(self):\n",
    "        return self._name\n",
    "    \n",
    "    # a setter function, allows name to be updated after initial object creation\n",
    "    @name.setter\n",
    "    def name(self, name):\n",
    "        self._name = name\n",
    "    \n",
    "    # dob property is returned as string, to avoid unfriendly outcomes\n",
    "    @property\n",
    "    def day(self):\n",
    "        day_string = self._day.strftime('%m-%d-%Y')\n",
    "        return day_string\n",
    "    \n",
    "    # dob should be have verification for type date\n",
    "    @day.setter\n",
    "    def day(self, day):\n",
    "        if isinstance(day, str):  # not a date type     \n",
    "            day = date=datetime.today()\n",
    "        self._day = day\n",
    "    \n",
    "    # a name getter method, extracts name from object\n",
    "    @property\n",
    "    def rate(self):\n",
    "        return self._rate\n",
    "    \n",
    "    # a setter function, allows name to be updated after initial object creation\n",
    "    @rate.setter\n",
    "    def rate(self, rate):\n",
    "        self._rate = rate\n",
    "    \n",
    "    @property\n",
    "    def comment(self):\n",
    "        return self._comment\n",
    "    \n",
    "    # a setter function, allows name to be updated after initial object creation\n",
    "    @comment.setter\n",
    "    def comment(self, comment):\n",
    "        self._comment = comment\n",
    "\n",
    "    # output content using str(object) in human readable form, uses getter\n",
    "    # output content using json dumps, this is ready for API response\n",
    "    def __str__(self):\n",
    "        return json.dumps(self.read())\n",
    "\n",
    "    # CRUD create/add a new record to the table\n",
    "    # returns self or None on error\n",
    "    def create(self):\n",
    "        try:\n",
    "            # creates a person object from User(db.Model) class, passes initializers\n",
    "            db.session.add(self)  # add prepares to persist person object to Users table\n",
    "            db.session.commit()  # SqlAlchemy \"unit of work pattern\" requires a manual commit\n",
    "            return self\n",
    "        except IntegrityError:\n",
    "            db.session.remove()\n",
    "            return None\n",
    "\n",
    "    # CRUD read converts self to dictionary\n",
    "    # returns dictionary\n",
    "    def read(self):\n",
    "        return {\n",
    "            \"id\": self.id,\n",
    "            \"name\": self.name,\n",
    "            \"day\": self.day,\n",
    "            \"rate\": self.rate,\n",
    "            \"comment\": self.comment,\n",
    "        }\n",
    "\n",
    "    # CRUD update: updates user name, password, phone\n",
    "    # returns self\n",
    "    def update(self, name=\"\", day=\"\", rate=\"\", comment=\"\"):\n",
    "        \"\"\"only updates values with length\"\"\"\n",
    "        if len(name) > 0:\n",
    "            self.name = name\n",
    "\n",
    "        if isinstance(day, str):  # not a date type     \n",
    "            day = date=datetime.today()\n",
    "        else:\n",
    "            self.day = day\n",
    "\n",
    "        if len(rate) > 0 and rate >= 0 and rate <= 10:\n",
    "            self.rate = rate\n",
    "\n",
    "        if len(comment) > 0:\n",
    "            self.comment = comment\n",
    "        \n",
    "        db.session.add(self)\n",
    "        db.session.commit()\n",
    "        return self\n",
    "\n",
    "    # CRUD delete: remove self\n",
    "    # None\n",
    "    def delete(self):\n",
    "        db.session.delete(self)\n",
    "        db.session.commit()\n",
    "        return None"
   ]
  },
  {
   "attachments": {},
   "cell_type": "markdown",
   "metadata": {},
   "source": [
    "## Initial Data"
   ]
  },
  {
   "cell_type": "code",
   "execution_count": 55,
   "metadata": {},
   "outputs": [
    {
     "name": "stdout",
     "output_type": "stream",
     "text": [
      "Created new movie Everything Everywhere All At Once\n",
      "Created new movie Soul\n",
      "Created new movie Violet Evergarden The Movie\n"
     ]
    }
   ],
   "source": [
    "\"\"\"Database Creation and Testing \"\"\"\n",
    "\n",
    "\n",
    "# Builds working data for testing\n",
    "def initMovies():\n",
    "    with app.app_context():\n",
    "        \"\"\"Create database and tables\"\"\"\n",
    "        db.create_all()\n",
    "        \"\"\"Tester data for table\"\"\"\n",
    "        m1 = Movie(name='Everything Everywhere All At Once', day=datetime(2023, 3, 10), rate=10, comment=\"New favorite movie!!\")\n",
    "        m2 = Movie(name='Soul', day=datetime(2023, 3, 16), rate=8, comment=\"Pretty good\")\n",
    "        m3 = Movie(name='Violet Evergarden The Movie', day=datetime(2023, 3, 18), rate=10, comment=\"Amazing movie to watch after the show.\")\n",
    "\n",
    "\n",
    "        movies = [m1, m2, m3]\n",
    "\n",
    "        \"\"\"Builds sample user/note(s) data\"\"\"\n",
    "        for movie in movies:\n",
    "            try:\n",
    "                '''add user to table'''\n",
    "                object = movie.create()\n",
    "                print(f\"Created new movie {movie.name}\")\n",
    "            except:  # error raised if object not created\n",
    "                '''fails with bad or duplicate data'''\n",
    "                print(f\"Records exist movie {movie.name}, or error.\")\n",
    "                \n",
    "initMovies()"
   ]
  },
  {
   "attachments": {},
   "cell_type": "markdown",
   "metadata": {},
   "source": [
    "## Check for given Credentials in users table in sqlite.db"
   ]
  },
  {
   "cell_type": "code",
   "execution_count": 56,
   "metadata": {},
   "outputs": [],
   "source": [
    "# SQLAlchemy extracts single user from database matching User ID\n",
    "def find_by_name(name):\n",
    "    with app.app_context():\n",
    "        movie = Movie.query.filter_by(_name=name).first()\n",
    "    return movie # returns user object"
   ]
  },
  {
   "attachments": {},
   "cell_type": "markdown",
   "metadata": {},
   "source": [
    "## Create a new User in table in Sqlite.db"
   ]
  },
  {
   "cell_type": "code",
   "execution_count": 57,
   "metadata": {},
   "outputs": [
    {
     "name": "stdout",
     "output_type": "stream",
     "text": [
      "Created\n",
      " {'id': 4, 'name': 'Top Gun: Maverick', 'day': '06-01-2022', 'rate': '9', 'comment': 'Super thrilling, amazing soundtrack'}\n"
     ]
    }
   ],
   "source": [
    "# Inputs, Try/Except, and SQLAlchemy work together to build a valid database object\n",
    "def create():\n",
    "    # optimize user time to see if uid exists\n",
    "    name = input(\"Enter the name of the movie:\")\n",
    "    movie = find_by_name(name)\n",
    "    try:\n",
    "        print(\"Found\\n\", movie.read())\n",
    "        return\n",
    "    except:\n",
    "        pass # keep going\n",
    "    \n",
    "    # request value that ensure creating valid object\n",
    "    rate = input(\"Enter your rating of this movie:\")\n",
    "    comment = input(\"Enter your comments about this movie:\")\n",
    "    \n",
    "    # Initialize User object before date\n",
    "    movie = Movie(name=name, \n",
    "                rate=rate,\n",
    "                comment=comment\n",
    "                )\n",
    "    \n",
    "    # create leader.dob, fail with today as dob\n",
    "    day = input(\"Enter the day you watched this movie:\")\n",
    "    try:\n",
    "        movie.day = datetime.strptime(day, '%Y-%m-%d').date()\n",
    "    except ValueError:\n",
    "        movie.day = datetime.today()\n",
    "        print(f\"Invalid date {day} require YYYY-mm-dd, date defaulted to {movie.day}\")\n",
    "    \n",
    "    # write object to database\n",
    "    with app.app_context():\n",
    "        try:\n",
    "            object = movie.create()\n",
    "            print(\"Created\\n\", object.read())\n",
    "        except:  # error raised if object not created\n",
    "            print(\"Unknown error movie {name}\")\n",
    "\n",
    "create()"
   ]
  },
  {
   "attachments": {},
   "cell_type": "markdown",
   "metadata": {},
   "source": [
    "Above, I created a movie to be added to the table"
   ]
  },
  {
   "attachments": {},
   "cell_type": "markdown",
   "metadata": {},
   "source": [
    "## Reading users table in sqlite.db"
   ]
  },
  {
   "cell_type": "code",
   "execution_count": 58,
   "metadata": {},
   "outputs": [
    {
     "data": {
      "text/plain": [
       "[{'id': 1,\n",
       "  'name': 'Everything Everywhere All At Once',\n",
       "  'day': '03-10-2023',\n",
       "  'rate': '10',\n",
       "  'comment': 'New favorite movie!!'},\n",
       " {'id': 2,\n",
       "  'name': 'Soul',\n",
       "  'day': '03-16-2023',\n",
       "  'rate': '8',\n",
       "  'comment': 'Pretty good'},\n",
       " {'id': 3,\n",
       "  'name': 'Violet Evergarden The Movie',\n",
       "  'day': '03-18-2023',\n",
       "  'rate': '10',\n",
       "  'comment': 'Amazing movie to watch after the show.'},\n",
       " {'id': 4,\n",
       "  'name': 'Top Gun: Maverick',\n",
       "  'day': '06-01-2022',\n",
       "  'rate': '9',\n",
       "  'comment': 'Super thrilling, amazing soundtrack'}]"
      ]
     },
     "execution_count": 58,
     "metadata": {},
     "output_type": "execute_result"
    }
   ],
   "source": [
    "\n",
    "# SQLAlchemy extracts all movies from database, turns each movie into JSON\n",
    "def read():\n",
    "    with app.app_context():\n",
    "        table = Movie.query.all()\n",
    "    json_ready = [movie.read() for movie in table] # \"List Comprehensions\", for each movie add movie.read() to list\n",
    "    return json_ready\n",
    "\n",
    "read()"
   ]
  },
  {
   "attachments": {},
   "cell_type": "markdown",
   "metadata": {},
   "source": [
    "You can see the movie that I created, \"Top Gun: Maverick\", read and displayed, at the bottom of the table"
   ]
  },
  {
   "attachments": {},
   "cell_type": "markdown",
   "metadata": {},
   "source": [
    "## Update Function\n",
    "Update function to modify/update existing data in the database. "
   ]
  },
  {
   "cell_type": "code",
   "execution_count": 64,
   "metadata": {},
   "outputs": [
    {
     "name": "stdout",
     "output_type": "stream",
     "text": [
      "{\"id\": 4, \"name\": \"Top Gun: Maverick\", \"day\": \"06-01-2022\", \"rate\": \"9\", \"comment\": \"Super thrilling, amazing soundtrack\"}\n",
      "Updating movie Top Gun: Maverick unsucessful.\n"
     ]
    }
   ],
   "source": [
    "def update():\n",
    "    # first require uid input\n",
    "    name = input(\"Enter your movie name:\")\n",
    "    movie = find_by_name(name)\n",
    "    if movie is None:\n",
    "        print(\"Movie with name \" + name + \" not found.\")\n",
    "        return\n",
    "    print(movie)\n",
    "    \n",
    "    # create new User attributes\n",
    "    new_name = input(\"Update your movie name:\")\n",
    "    checkname = find_by_name(new_name)\n",
    "    if (checkname is not None) and (new_name != name):\n",
    "        print(f\"The movie name {new_name} is a duplicate.\")\n",
    "        return\n",
    "\n",
    "    new_day = input(\"Update the date you watched this movie:\")\n",
    "    try:\n",
    "        dayformat = datetime.strptime(new_day, '%Y-%m-%d').date()\n",
    "    except ValueError:\n",
    "        dayformat = datetime.today()\n",
    "        print(f\"Date {new_day} incorrect format. Date set to {dayformat}\")\n",
    "\n",
    "    temp_rate = input(\"Update your movie rating:\")\n",
    "    if int(temp_rate)<1 or int(temp_rate)>10:\n",
    "        new_rate = 6\n",
    "        print(f\"Score {temp_rate} invalid. Score set to {new_rate}\")\n",
    "    else:\n",
    "        new_rate = temp_rate\n",
    "\n",
    "    new_comment = input(\"Update your comments about this movie:\")\n",
    "\n",
    "    # update the leader in the database\n",
    "    with app.app_context():\n",
    "        try:\n",
    "            updated = movie.update(name=new_name, day=dayformat, rate=new_rate, comment=new_comment)\n",
    "            print(\"Updated movie:\\n\", updated.read())\n",
    "        except:  # error raised if object not created\n",
    "            print(f\"Updating movie {name} unsucessful.\")\n",
    "        \n",
    "\n",
    "update()"
   ]
  },
  {
   "attachments": {},
   "cell_type": "markdown",
   "metadata": {},
   "source": [
    "Now, I updated the leader \"Aliya\" to be changed to my sister and her information \"Alice\""
   ]
  },
  {
   "attachments": {},
   "cell_type": "markdown",
   "metadata": {},
   "source": [
    "## Delete Function\n",
    "Delete function to remove existing data from the database. "
   ]
  },
  {
   "cell_type": "code",
   "execution_count": 46,
   "metadata": {},
   "outputs": [
    {
     "name": "stdout",
     "output_type": "stream",
     "text": [
      "{\"id\": 4, \"name\": \"Top Gun: Maverick\", \"day\": \"01-01-2023\", \"rate\": \"8\", \"comment\": \"Very fun and thrilling\"}\n",
      "Movie has been deleted successfully.\n"
     ]
    }
   ],
   "source": [
    "def delete():\n",
    "    # first require uid input\n",
    "    name = input(\"Enter the movie to delete:\")\n",
    "    movie = find_by_name(name)\n",
    "    if movie is None:\n",
    "        print(\"Movie with name \" + name + \" not found.\")\n",
    "        return\n",
    "    print(movie)\n",
    "\n",
    "    with app.app_context():\n",
    "        try:\n",
    "            movie.delete()\n",
    "            print(\"Movie has been deleted successfully.\")\n",
    "        except:\n",
    "            print(\"There was an unknown error deleting the given movie.\")\n",
    "\n",
    "delete()"
   ]
  },
  {
   "attachments": {},
   "cell_type": "markdown",
   "metadata": {},
   "source": [
    "Lastly, I deleted the movie"
   ]
  }
 ],
 "metadata": {
  "kernelspec": {
   "display_name": "base",
   "language": "python",
   "name": "python3"
  },
  "language_info": {
   "codemirror_mode": {
    "name": "ipython",
    "version": 3
   },
   "file_extension": ".py",
   "mimetype": "text/x-python",
   "name": "python",
   "nbconvert_exporter": "python",
   "pygments_lexer": "ipython3",
   "version": "3.9.12"
  },
  "orig_nbformat": 4,
  "vscode": {
   "interpreter": {
    "hash": "229356a43b4b009667998a5688566d3cdc6138ccfeebc05ae2d0dd3ad0d89f73"
   }
  }
 },
 "nbformat": 4,
 "nbformat_minor": 2
}

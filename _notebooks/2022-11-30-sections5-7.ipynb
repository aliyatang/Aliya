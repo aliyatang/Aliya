{
 "cells": [
  {
   "cell_type": "markdown",
   "metadata": {},
   "source": [
    "# Homework \n",
    "\n",
    "- toc: true\n",
    "- badges: true\n",
    "- comments: true\n",
    "- categories: [Week 13]"
   ]
  },
  {
   "cell_type": "markdown",
   "metadata": {},
   "source": [
    "# Section 5 - Boolean Expressions \n",
    "\n",
    "## Intro\n",
    "\n",
    "Booleans:\n",
    "- Two values True (1) and False (0)\n",
    "\n",
    "## Vocab\n",
    "- Boolean\n",
    "- Relational Operator\n",
    "- Logical Operator\n",
    "\n",
    "## Boolean Operators\n",
    "\n",
    "### Relational Operators\n",
    "- Works between any two values that are hte same type\n",
    "- Consist of operators: ==, !=, >, <, >=, <="
   ]
  },
  {
   "cell_type": "code",
   "execution_count": 6,
   "metadata": {},
   "outputs": [
    {
     "ename": "SyntaxError",
     "evalue": "invalid syntax (2406183848.py, line 1)",
     "output_type": "error",
     "traceback": [
      "\u001b[0;36m  Input \u001b[0;32mIn [6]\u001b[0;36m\u001b[0m\n\u001b[0;31m    print(\"True:\",4 4)\u001b[0m\n\u001b[0m                    ^\u001b[0m\n\u001b[0;31mSyntaxError\u001b[0m\u001b[0;31m:\u001b[0m invalid syntax\n"
     ]
    }
   ],
   "source": [
    "print(\"True:\",4 4)\n",
    "print(\"True:\",1 0)\n",
    "print(\"False:\",7 3)\n",
    "print(\"True:\",5 6)\n",
    "print(\"False:\",7 8)\n",
    "print(\"True:\",3 3)\n",
    "print('')\n",
    "\n",
    "# Same as above, but now for other values other than int\n",
    "print('True:',\"as\"\"as\")\n",
    "print(\"False\",TrueFalse)\n",
    "print(\"False:\",[2,3,1][2,3,1])\n",
    "print(\"True:\",'af''bc')\n",
    "print(\"False:\",'ce''cf')\n",
    "print(\"True:\",[1,'b'][1,'a'])\n",
    "print('')"
   ]
  },
  {
   "cell_type": "markdown",
   "metadata": {},
   "source": [
    "### Logical Operators\n",
    "- Operators that work on oeprand(s) to produce a single b9oolean result"
   ]
  },
  {
   "cell_type": "code",
   "execution_count": 5,
   "metadata": {},
   "outputs": [
    {
     "ename": "SyntaxError",
     "evalue": "invalid syntax (2747415108.py, line 1)",
     "output_type": "error",
     "traceback": [
      "\u001b[0;36m  Input \u001b[0;32mIn [5]\u001b[0;36m\u001b[0m\n\u001b[0;31m    print(\"True:\", True False)\u001b[0m\n\u001b[0m                        ^\u001b[0m\n\u001b[0;31mSyntaxError\u001b[0m\u001b[0;31m:\u001b[0m invalid syntax\n"
     ]
    }
   ],
   "source": [
    "print(\"True:\", True False)\n",
    "print(\"False:\",  True)\n",
    "print(\"True:\", True True)\n",
    "print(\"False:\",  True)\n",
    "print(\"False:\", True False)\n",
    "print(\"True:\",  False)"
   ]
  },
  {
   "cell_type": "markdown",
   "metadata": {},
   "source": [
    "### Combination of Relational and Logical Operators and the Procedure of Operations\n",
    "- Relational Operators first, then Logical operators\n"
   ]
  },
  {
   "cell_type": "code",
   "execution_count": 4,
   "metadata": {},
   "outputs": [
    {
     "ename": "SyntaxError",
     "evalue": "invalid syntax (1803796601.py, line 1)",
     "output_type": "error",
     "traceback": [
      "\u001b[0;36m  Input \u001b[0;32mIn [4]\u001b[0;36m\u001b[0m\n\u001b[0;31m    print( 3 3 4 6 5 7)\u001b[0m\n\u001b[0m             ^\u001b[0m\n\u001b[0;31mSyntaxError\u001b[0m\u001b[0;31m:\u001b[0m invalid syntax\n"
     ]
    }
   ],
   "source": [
    "print( 3 3 4 6 5 7)\n"
   ]
  },
  {
   "cell_type": "markdown",
   "metadata": {},
   "source": [
    "# Section 6 - Conditionals\n",
    "\n",
    "## Vocab\n",
    "- algorithm - A set of instructions that accomplish a task.\n",
    "- selection - The process that determines which parts of an algoritm is being executed based on a condition that is true or false.\n",
    "\n",
    "## What is a conditional?\n",
    "- Statement that affects flow/outcome of a program\n",
    "- Executing different statements based on the result of ture or false statement, or boolean expression\n",
    "- Used in many programming lanuages\n",
    "\n",
    "## If/Else Statements\n",
    "Example:"
   ]
  },
  {
   "cell_type": "code",
   "execution_count": 2,
   "metadata": {},
   "outputs": [
    {
     "name": "stdout",
     "output_type": "stream",
     "text": [
      "no, 3 does not equal 5\n"
     ]
    }
   ],
   "source": [
    "number = 3          # value that will affect true or false statement\n",
    "if number == 5:     # if part determines if the statement is true or false compared to another part of the program\n",
    "    print(\"yes, 5 does equal 5\")\n",
    "else:               #else part only executes if the if part is false\n",
    "    print(\"no, \" + str(number) + \" does not equal 5\")"
   ]
  },
  {
   "cell_type": "markdown",
   "metadata": {},
   "source": [
    "Just if statment, interruption rather than yes or no responsse"
   ]
  },
  {
   "cell_type": "code",
   "execution_count": 1,
   "metadata": {},
   "outputs": [
    {
     "name": "stdout",
     "output_type": "stream",
     "text": [
      "0%\n",
      "10%\n",
      "20%\n",
      "30%\n",
      "40%\n",
      "50%\n",
      "Half way there\n",
      "60%\n",
      "70%\n",
      "80%\n",
      "90%\n",
      "100% Complete\n"
     ]
    }
   ],
   "source": [
    "progress = 0\n",
    "while progress < 100:\n",
    "    print(str(progress) + \"%\")\n",
    "    \n",
    "    if progress == 50:\n",
    "        print(\"Half way there\")\n",
    "\n",
    "    progress = progress + 10\n",
    "print(\"100%\" + \" Complete\")"
   ]
  },
  {
   "cell_type": "markdown",
   "metadata": {},
   "source": [
    "# Section 7 - Nested Conditionals\n",
    "\n",
    "## Nexted Conditional Statements\n",
    "- consist of conditional statements within conditional statements\n",
    "\n",
    "## Fomrated of nested conditional in Psuedocode"
   ]
  },
  {
   "cell_type": "code",
   "execution_count": null,
   "metadata": {},
   "outputs": [],
   "source": [
    "IF (condition 1)\n",
    "{\n",
    "    <first block of statements>\n",
    "}\n",
    "ELSE\n",
    "{\n",
    "    IF (condition 2)\n",
    "    {\n",
    "        <second block of statements>\n",
    "    }\n",
    "    ELSE\n",
    "    {\n",
    "        <third block of statements>\n",
    "    }\n",
    "}"
   ]
  },
  {
   "cell_type": "markdown",
   "metadata": {},
   "source": [
    "## Nested condtional examples:"
   ]
  },
  {
   "cell_type": "code",
   "execution_count": null,
   "metadata": {},
   "outputs": [],
   "source": [
    "age = 19\n",
    "isGraduated = False\n",
    "hasLicense = True\n",
    "\n",
    "# Look if person is 18 years or older\n",
    "if age >= 18:\n",
    "    print(\"You're 18 or older. Welcome to adulthood!\")\n",
    "\n",
    "    if isGraduated:\n",
    "        print('Congratulations with your graduation!')\n",
    "    if hasLicense:\n",
    "        print('Happy driving!')"
   ]
  },
  {
   "cell_type": "code",
   "execution_count": null,
   "metadata": {},
   "outputs": [],
   "source": [
    "print(\"What is your grade on the quiz\")\n",
    "grade = int(input('What is your grade on the quiz'))\n",
    "if grade >= 90:\n",
    "    print(\"Awesome grade. You do not need to make up the quiz.\")\n",
    "else:\n",
    "    if grade >= 70:\n",
    "        print(\"You may retake the quiz next class for up to an A.\")\n",
    "    else:\n",
    "        print(\"We will review next class together and retake later.\")"
   ]
  },
  {
   "cell_type": "markdown",
   "metadata": {},
   "source": [
    "## Examples + Try it!"
   ]
  },
  {
   "cell_type": "code",
   "execution_count": null,
   "metadata": {},
   "outputs": [],
   "source": [
    " = ; \n",
    "if (): \n",
    "    print(\"\"); \n",
    "else: \n",
    "    print(\"\"); \n",
    "if (): \n",
    "    print(\"\"); \n",
    "else: \n",
    "    print(\"\"); \n",
    "if (): \n",
    "    print(\"\"); \n",
    "else:\n",
    "    print(\"\"); \n",
    "if (): \n",
    "    print(\"\"); \n",
    "else: \n",
    "    print(\"\");"
   ]
  },
  {
   "cell_type": "code",
   "execution_count": null,
   "metadata": {},
   "outputs": [],
   "source": [
    "if conditionA:\n",
    "    # Code here executes when 'conditionA' is True\n",
    "else:\n",
    "    # Code that runs when 'conditionA' is False\n",
    "\n",
    "    if conditionB:\n",
    "        # Code that runs when 'conditionA' is False\n",
    "        # and 'conditionB' is True"
   ]
  },
  {
   "cell_type": "code",
   "execution_count": null,
   "metadata": {},
   "outputs": [],
   "source": [
    "n=int(input('Enter marks: '))\n",
    "\n",
    "# checking the conditions\n",
    "if  n>=75:\n",
    "    if n >=95:\n",
    "        print('Excellent')\n",
    "    else:\n",
    "        print('Pass')\n",
    "else:\n",
    "    print('Fail')"
   ]
  },
  {
   "cell_type": "code",
   "execution_count": null,
   "metadata": {},
   "outputs": [],
   "source": [
    "if (condition 1)\n",
    "    if (condition 2)\n",
    "        #first block of statement\n",
    "    else \n",
    "        #second block of statement\n",
    "else\n",
    "    if (condition 3)\n",
    "        #third block of statement\n",
    "    else \n",
    "        #fourth block of statement"
   ]
  },
  {
   "cell_type": "markdown",
   "metadata": {},
   "source": [
    "### Challenge #1: Create your own Nested Conditional, with a if/else statement inside the else code of an if/else statement."
   ]
  },
  {
   "cell_type": "code",
   "execution_count": null,
   "metadata": {},
   "outputs": [],
   "source": [
    "def function(x, y, z):\n",
    "    if()\n",
    "    #Code here\n",
    "        if()\n",
    "        #Code here\n",
    "        else \n",
    "        #Code here\n",
    "    else\n",
    "        if()\n",
    "        #Code here\n",
    "        else\n",
    "        #Code here"
   ]
  },
  {
   "cell_type": "markdown",
   "metadata": {},
   "source": [
    "### Challenge #2: Create your own Nested Conditional with operators and comparing values"
   ]
  },
  {
   "cell_type": "code",
   "execution_count": null,
   "metadata": {},
   "outputs": [],
   "source": []
  },
  {
   "cell_type": "markdown",
   "metadata": {},
   "source": [
    "## Homework/Hacks\n",
    "\n",
    " our homework we have decided for a decimal number to binary converter. You must use conditional statements within your code and have a input box for where the decimal number will go. This will give you a 2.7 out of 3 and you may add anything else to the code to get above a 2.7.\n",
    "\n"
   ]
  },
  {
   "cell_type": "markdown",
   "metadata": {},
   "source": [
    "Below is an example of decimal number to binary converter which you can use as a starting template."
   ]
  },
  {
   "cell_type": "code",
   "execution_count": null,
   "metadata": {},
   "outputs": [],
   "source": [
    "nums = []\n",
    "x = int(input(\"Enter a number between 1 and 255:\"))\n",
    "\n",
    "def convert(x):\n",
    "    if x >= 1 and x <= 255:\n",
    "        while x/2 != 0:\n",
    "            rem = x % 2\n",
    "            nums.append(rem)\n",
    "            x = int(x/2)\n",
    "        nums.reverse()\n",
    "        binary = \" \"\n",
    "        for i in nums:\n",
    "            binary = binary + str(i)\n",
    "        return binary\n",
    "    else:\n",
    "        print(\"Number not within range.\")\n",
    "\n",
    "print(str(x) + \" to binary: \" + convert(x))"
   ]
  }
 ],
 "metadata": {
  "kernelspec": {
   "display_name": "Python 3.9.6 64-bit",
   "language": "python",
   "name": "python3"
  },
  "language_info": {
   "codemirror_mode": {
    "name": "ipython",
    "version": 3
   },
   "file_extension": ".py",
   "mimetype": "text/x-python",
   "name": "python",
   "nbconvert_exporter": "python",
   "pygments_lexer": "ipython3",
   "version": "3.8.9"
  },
  "orig_nbformat": 4,
  "vscode": {
   "interpreter": {
    "hash": "31f2aee4e71d21fbe5cf8b01ff0e069b9275f58929596ceb00d14d90e3e16cd6"
   }
  }
 },
 "nbformat": 4,
 "nbformat_minor": 2
}

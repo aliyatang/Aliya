{
 "cells": [
  {
   "cell_type": "markdown",
   "metadata": {},
   "source": [
    "# All Classes Notes and Resources"
   ]
  },
  {
   "cell_type": "markdown",
   "metadata": {},
   "source": [
    "Basic links:\n",
    "\n",
    "[Del Norte Website](https://www.powayusd.com/en-US/Schools/HS/DNHS/Home)\n",
    "[Canvas](https://poway.instructure.com/)\n",
    "[Google Drive](https://drive.google.com/drive/my-drive)\n",
    "[StudentVue](https://sis.powayusd.com/PXP2_Login.aspx)\n"
   ]
  },
  {
   "cell_type": "markdown",
   "metadata": {},
   "source": [
    "Period 1 - AP Biology\n",
    "    - [Course Calendar](https://docs.google.com/document/d/1dQvNBH_TDJQEz8DsNwrLZnDGMAPq-IB1Q2LhppIqU70/edit?usp=sharing)\n",
    "    - [Pearson MyLab and Mastering](https://openvellum.ecollege.com/course.html?courseId=17590091&OpenVellumHMAC=a7343e05b83d[d0016a0b3fede79cff9f#10001)\n",
    "\n",
    "Period 2 - AP Calculus AB\n",
    "    -Currently learning: Limits\n",
    "\n",
    "Period 3 - World History 1\n",
    "    -Currently learning: Revolutions\n",
    "\n",
    "Period 4 - Honors Humanities 1\n",
    "    - Currently learning: s\n",
    "    - Things to do: Work on Definition Essay\n",
    "\n",
    "Period 5 - AP Computer Science Principles\n"
   ]
  }
 ],
 "metadata": {
  "kernelspec": {
   "display_name": "Python 3.10.6 64-bit",
   "language": "python",
   "name": "python3"
  },
  "language_info": {
   "name": "python",
   "version": "3.10.6"
  },
  "orig_nbformat": 4,
  "vscode": {
   "interpreter": {
    "hash": "b0fa6594d8f4cbf19f97940f81e996739fb7646882a419484c72d19e05852a7e"
   }
  }
 },
 "nbformat": 4,
 "nbformat_minor": 2
}

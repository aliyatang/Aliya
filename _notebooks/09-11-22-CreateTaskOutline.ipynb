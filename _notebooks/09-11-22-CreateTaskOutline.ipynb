{
 "cells": [
  {
   "cell_type": "markdown",
   "metadata": {},
   "source": [
    "# Create Preformance Task Project Outline\n",
    "> Outline for Create Task\n",
    "- categories: [markdown, week3]"
   ]
  },
  {
   "cell_type": "markdown",
   "metadata": {},
   "source": [
    "## Ideas\n",
    "\n",
    "- Online recipe book for baking desserts\n",
    "- Game similar to Wordle"
   ]
  },
  {
   "cell_type": "markdown",
   "metadata": {},
   "source": [
    "## Recipe Book\n",
    "\n",
    "- Online recipe book for desserts I've personally baked\n",
    "- Some recipes to include\n",
    "    - Chocolate chip cookies\n",
    "    - Smore's cookies\n",
    "    - Exclusive fall section + Other seasons (checks what time of the year):\n",
    "        - Apple pie\n",
    "        - Pumpkin pie\n",
    "        - Pumpkin cheescake cookies\n",
    "        - Pumpkin cheesecake\n",
    "        - Pumpkin cake roll\n",
    "\n",
    "- Recipe includes:\n",
    "    - Ingredients with measuresments\n",
    "    - Step-by-step instructions\n",
    "    - Tips from my personal experience when baking\n",
    "    - Pictures: Ingredients, Process, Finished Products\n",
    "    - Link to original recipe\n",
    "    - Video from original recipe (if there is a video)\n",
    "\n",
    "- Things to implement:\n",
    "    - Browse recipe option\n",
    "    - Search recipes in catalog\n",
    "    - Change serving size/measurements proportionally\n",
    "\n",
    "- Note that I need to know how to implement these things:\n",
    "    - Search option from user input\n",
    "    - Find time of the year (for season)"
   ]
  },
  {
   "cell_type": "markdown",
   "metadata": {},
   "source": [
    "## Wordle Game\n",
    "\n",
    "- Product similar to online game \"Wordle\"\n",
    "- Normal mode:\n",
    "    - Unknown five letter word\n",
    "    - Six guesses\n",
    "    - Each guess:\n",
    "        - Letters that are in the word and in the correct placement appear green\n",
    "        - Letters that are in the word but not in the correct space appear blue\n",
    "        - Letters that are not in the word at all appear grey\n",
    "- Change the mode:\n",
    "    - Change the number of letters in the words\n",
    "    - Change number of guesses allowed\n",
    "    - Specific genre of words\n",
    "    - Set time limit\n",
    "- Things to implement:\n",
    "    - Clear words/start over\n",
    "    - Hint: Gives you letters that are or aren't in the words, reveals a letter, etc\n",
    "    - Statistics after each game or after every 5/10/etc games\n",
    "- Note that I need to know how to implement these things:\n",
    "    - Working keyboard\n",
    "    - Designed webpage\n",
    "    - User input for submitted word\n",
    "    - Possible: Animations when submitting a word"
   ]
  },
  {
   "cell_type": "markdown",
   "metadata": {},
   "source": [
    "## Resources\n",
    "\n",
    "- APCSP Course Website - Look through past posts\n",
    "- Google Search:\n",
    "    - Khan Academy\n",
    "    - Stack Overflow\n",
    "    - GeeksforGeeks\n"
   ]
  }
 ],
 "metadata": {
  "kernelspec": {
   "display_name": "Python 3.10.6 64-bit",
   "language": "python",
   "name": "python3"
  },
  "language_info": {
   "name": "python",
   "version": "3.10.6"
  },
  "orig_nbformat": 4,
  "vscode": {
   "interpreter": {
    "hash": "b0fa6594d8f4cbf19f97940f81e996739fb7646882a419484c72d19e05852a7e"
   }
  }
 },
 "nbformat": 4,
 "nbformat_minor": 2
}

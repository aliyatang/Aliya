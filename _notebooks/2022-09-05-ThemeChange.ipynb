{
 "cells": [
  {
   "cell_type": "markdown",
   "metadata": {},
   "source": [
    "# Remote Theme Change\n",
    "> Changing the theme from minima to another theme\n",
    "\n",
    "- categories: [markdown, week2]"
   ]
  },
  {
   "cell_type": "markdown",
   "metadata": {},
   "source": [
    "The original webpage which has the minima theme uses the code below in config.yml:\n",
    "\n",
    "![This is an image] (https://github.com/aliyatang/Aliya/blob/0d659c48a67163eb29d08b74005466e10026c3f9/images/9-5-22-Screenshot1.png)"
   ]
  },
  {
   "cell_type": "markdown",
   "metadata": {},
   "source": [
    "I wanted to change the minima theme to something else because it is a bit plain. I switched it to another supported theme, merlot:\n",
    "\n",
    "![This is an image] (https://github.com/aliyatang/Aliya/blob/0d659c48a67163eb29d08b74005466e10026c3f9/images/9-5-22-Screenshot2.png)"
   ]
  },
  {
   "cell_type": "markdown",
   "metadata": {},
   "source": [
    "However, my webpage had a few problems:\n",
    "\n",
    "![This is an image] (https://github.com/aliyatang/Aliya/blob/0d659c48a67163eb29d08b74005466e10026c3f9/images/9-5-22-Screenshot3.png)s"
   ]
  },
  {
   "cell_type": "markdown",
   "metadata": {},
   "source": [
    "## Changes and Problems\n",
    "Though the page looked prettier, many things disappeared. The main problem was that the menu bar at the top with links to my about me, notes, search, table, and tags pages was completely gone. Other changes included colors, fonts, the way my posts were displayed, etc. "
   ]
  }
 ],
 "metadata": {
  "kernelspec": {
   "display_name": "Python 3.10.6 64-bit",
   "language": "python",
   "name": "python3"
  },
  "language_info": {
   "name": "python",
   "version": "3.10.6"
  },
  "orig_nbformat": 4,
  "vscode": {
   "interpreter": {
    "hash": "b0fa6594d8f4cbf19f97940f81e996739fb7646882a419484c72d19e05852a7e"
   }
  }
 },
 "nbformat": 4,
 "nbformat_minor": 2
}

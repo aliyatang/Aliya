{
 "cells": [
  {
   "attachments": {},
   "cell_type": "markdown",
   "metadata": {},
   "source": [
    "# Sections 14-15\n",
    "> Section 14: Libraries, Section 15: Random Values\n",
    "\n",
    "- toc: true\n",
    "- comments: true\n",
    "- categories: [Week-13,Big-Idea-3]\n",
    "- image: /images/college-board-logo.png"
   ]
  },
  {
   "attachments": {},
   "cell_type": "markdown",
   "metadata": {},
   "source": [
    "Purpose: Help students streamline and make their coding experience easier through built in packages and methods from a library\n",
    "<br>Objective: By the end of the lesson, students should be able to fluently use methods from the turtle and math packages, and be able to look up documentation for any python package and us it."
   ]
  },
  {
   "attachments": {},
   "cell_type": "markdown",
   "metadata": {},
   "source": [
    "fill in the blanks!\n",
    "# Libraries\n",
    "Okay, so we've learned a lot of code, and all of you now can boast that you can code at least some basic programs in python. But, what about more advanced stuff? What if there's a more advanced program you don't know how to make? Do you need to make it yourself? Well, not always. \n",
    "\n",
    "You've already learned about functions that you can write to reuse in your code in previous lessons. But,there are many others who code in python just like you. So why would you do again what someone has already done, and is available for any python user? \n",
    "\n",
    "Packages allow a python user to import methods from a library, and use the methods in their code. Most libraries come with documentation on the different methods they entail and how to use them, and they can be found with a quick google search. methods are used with the following: \n",
    "\n",
    "#### Note: a method from a package can only be used after the import statement. \n",
    "\n",
    "Some libraries are always installed, such as those with the list methods which we have previously discussed. But others require a special python keyword called import. We will learn different ways to import in Challenge 1.\n",
    "\n",
    "Sometimes we only need to import a single method from the package. We can do that with the word \"from\", followed by the package name, then the word \"import\", then the method. This will alllow you to use the method without mentioning the package's name, unlike what we did before, however other methods from that package cannot be used. To get the best of both worlds you can use \"*\".\n",
    "\n",
    "To import a method as an easier name, just do what we did first, add the word \"as\", and write the name you would like to use that package as.\n",
    "\n",
    "# Challenge 1: Basic Libraries\n",
    "1. Find a python package on the internet and import it\n",
    "NumPy, random, pandas\n",
    "2. Choose a method from the package and import only the method\n",
    "ex: randint is a method of random package\n",
    "3. import the package as a more convenient name.\n",
    "import _ as _"
   ]
  },
  {
   "cell_type": "code",
   "execution_count": 26,
   "metadata": {},
   "outputs": [
    {
     "name": "stdout",
     "output_type": "stream",
     "text": [
      "7\n",
      "7\n",
      "10.0\n"
     ]
    }
   ],
   "source": [
    "import random as rd\n",
    "print(rd.randint(1,10))\n",
    "\n",
    "from random import randint as ri\n",
    "print(ri(1,10))\n",
    "\n",
    "import math as m\n",
    "nums = [1, 2, 3, 4]\n",
    "print(m.fsum(nums))"
   ]
  },
  {
   "attachments": {},
   "cell_type": "markdown",
   "metadata": {},
   "source": [
    "# Challenge 2: Turtle\n",
    "Turtle is a python drawing library which allows you to draw all kinds of different shapes. It's ofter used to teach beginning python learners, but is really cool to use anywhere. Turtle employs a graphics package to display what you've done, but unfortunately it's kind of annoying to make work with vscode.\n",
    "<br>\n",
    "Use: repl.it\n",
    "<br>\n",
    "Click \"+ Create\", and for language, select \"Python (with Turtle)\"\n",
    "<br>\n",
    "[Documentation](https://docs.python.org/3/library/turtle.html#turtle.pendown)<br>\n",
    "Task: Have fun with turtle! Create something that uses at least 2 lines of different lengths and 2 turns with different angles, and changes at least one setting about either the pen or canvas. Also use one command that isn't mentioned on the table below(there are a lot). Paste a screenshot of the code and the drawing from repl.it\n",
    "\n",
    "|Commands|\n",
    "|--------|\n",
    "|forward(pixels)|\n",
    "|right(degrees)|\n",
    "|left(degrees)|\n",
    "|setpos(x,y)|\n",
    "|speed(speed)|\n",
    "|pensize(size)|\n",
    "|pencolor(color)|\n",
    "Note: Color should be within quotes, like \"brown\", or \"red\"\n",
    "\n"
   ]
  },
  {
   "cell_type": "markdown",
   "metadata": {},
   "source": [
    "![This is an image](https://i.insider.com/55a67a7a371d22ce178b6624?width=1200&format=jpeg)"
   ]
  },
  {
   "attachments": {},
   "cell_type": "markdown",
   "metadata": {},
   "source": [
    "# Challenge 3: Math\n",
    "The math package allows for some really cool mathematical methods!<br>\n",
    "\n",
    "|methods|Action|\n",
    "|-------|------|\n",
    "|ceil(x)|roundes to the smallest integer greater than or equal to x|\n",
    "|floor()|rounds to largest integer less than or equal to x|\n",
    "|factorial(x)|returns the factorial of x|\n",
    "|gcd(x,y)|returns the greatest common denominator of x and y|\n",
    "|lcm(x,y)|returns the least common multiple of x and y|\n",
    "\n",
    "##### Challenge: Create a program which asks for a user input of two numbers, and returns the following:\n",
    "- each number rounded up\n",
    "- each number rounded down\n",
    "- the lcm of the rounded down numbers\n",
    "- the gcf of the rounded up numbers\n",
    "- the factorial of each number\n",
    "- something else using the math package!<br>\n",
    "[Documentation](https://docs.python.org/3/library/math.html)"
   ]
  },
  {
   "cell_type": "code",
   "execution_count": 28,
   "metadata": {},
   "outputs": [
    {
     "name": "stdout",
     "output_type": "stream",
     "text": [
      "6\n",
      "8\n",
      "5\n",
      "7\n",
      "35\n",
      "8\n",
      "2.449489742783178\n"
     ]
    }
   ],
   "source": [
    "import math as m\n",
    "x = float(input(\"Enter a number:\"))\n",
    "y = float(input(\"Enter another number:\"))\n",
    "\n",
    "# Rounded up\n",
    "ceil_x = m.ceil(x)\n",
    "print(ceil_x)\n",
    "ceil_y = m.ceil(y)\n",
    "print(ceil_y)\n",
    "\n",
    "# Rounded down\n",
    "floor_x = m.floor(x)\n",
    "print(floor_x)\n",
    "floor_y = m.floor(y)\n",
    "print(floor_y)\n",
    "\n",
    "# LCM of the rounded down\n",
    "print(m.lcm(floor_x,floor_y))\n",
    "\n",
    "# GCF of the rounded up\n",
    "print(m.gcd(ceil_y,ceil_y))\n",
    "\n",
    "# Square root\n",
    "print(m.sqrt(ceil_x))"
   ]
  },
  {
   "attachments": {},
   "cell_type": "markdown",
   "metadata": {},
   "source": [
    "# Homework: Putting it all together(complete only after the random values lesson)\n",
    "Option 1: Create a python program which generates a random number between 1 and 10, and use turtle to draw a regular polygon with that many sides. As a hint, remember that the total sum of all the angles in a polygon is (the number of sides - 2) * 180. Note: a regular polygon has all sides and angles the same size. Paste a screenshot of the code and the drawing from repl.it\n",
    "\n",
    "Option 2: use the \"datetime\" package, and looking up documentation, create a program to generate 2 random dates and find the number of days between\n",
    "\n",
    "\n",
    "Extra ideas: customize the settings, draw a picture, or something else!"
   ]
  },
  {
   "cell_type": "markdown",
   "metadata": {},
   "source": [
    "# Unit 3.15 Random Values"
   ]
  },
  {
   "cell_type": "markdown",
   "metadata": {},
   "source": [
    "Purpose/Objectives: Teach student how to implement randomness into their code to make their code simulate real life situations. \n",
    "\n",
    "In this lesson students will learn:\n",
    "- How to import random to python\n",
    "- How to use random with a list or number range \n",
    "- How to code randomness in everyday scenarios"
   ]
  },
  {
   "cell_type": "markdown",
   "metadata": {},
   "source": [
    "ADD YOUR ADDITIONAL NOTES HERE:\n",
    "- Random values are a number generated using a large set of numbers and a mathematical algorithm which gives equal probability to all numbers occuring\n",
    "- Using random number generation in a program means each execution may produce a different result\n",
    "- Random outputs in the word: Coin flip, marbles, dice\n",
    "- We need random values for code: games, statistical sampling, cryptography, etc"
   ]
  },
  {
   "cell_type": "markdown",
   "metadata": {},
   "source": [
    "Random values can be used in coding:\n",
    "-"
   ]
  },
  {
   "cell_type": "code",
   "execution_count": 29,
   "metadata": {},
   "outputs": [
    {
     "name": "stdout",
     "output_type": "stream",
     "text": [
      "10\n"
     ]
    }
   ],
   "source": [
    "import random\n",
    "random_number = random.randint(1,100)\n",
    "print(random_number)"
   ]
  },
  {
   "cell_type": "code",
   "execution_count": 30,
   "metadata": {},
   "outputs": [
    {
     "name": "stdout",
     "output_type": "stream",
     "text": [
      "banana\n"
     ]
    }
   ],
   "source": [
    "def randomlist():\n",
    "    list = [\"apple\", \"banana\", \"cherry\", \"blueberry\"]\n",
    "    element = random.choice(list)\n",
    "    print(element)\n",
    "randomlist()"
   ]
  },
  {
   "cell_type": "markdown",
   "metadata": {},
   "source": [
    "Real Life Examples:\n",
    "Dice Roll"
   ]
  },
  {
   "cell_type": "code",
   "execution_count": 31,
   "metadata": {},
   "outputs": [
    {
     "name": "stdout",
     "output_type": "stream",
     "text": [
      "Roll 1:6\n",
      "Roll 2:4\n",
      "Roll 3:5\n"
     ]
    }
   ],
   "source": [
    "import random\n",
    "for i in range(3):\n",
    "    roll = random.randint(1,6)\n",
    "    print(\"Roll \" + str(i + 1) + \":\" + str(roll))"
   ]
  },
  {
   "cell_type": "markdown",
   "metadata": {},
   "source": [
    "## Challenge #1\n",
    "Write a function that will a simulate a coinflip and print the output"
   ]
  },
  {
   "cell_type": "code",
   "execution_count": 32,
   "metadata": {},
   "outputs": [
    {
     "name": "stdout",
     "output_type": "stream",
     "text": [
      "Tails\n"
     ]
    }
   ],
   "source": [
    "import random\n",
    "def coinflip():\n",
    "    options = [\"Heads\", \"Tails\"]\n",
    "    print(random.choice(options))\n",
    "\n",
    "coinflip()"
   ]
  }
 ],
 "metadata": {
  "kernelspec": {
   "display_name": "Python 3.10.6 64-bit",
   "language": "python",
   "name": "python3"
  },
  "language_info": {
   "codemirror_mode": {
    "name": "ipython",
    "version": 3
   },
   "file_extension": ".py",
   "mimetype": "text/x-python",
   "name": "python",
   "nbconvert_exporter": "python",
   "pygments_lexer": "ipython3",
   "version": "3.10.6"
  },
  "orig_nbformat": 4,
  "vscode": {
   "interpreter": {
    "hash": "b0fa6594d8f4cbf19f97940f81e996739fb7646882a419484c72d19e05852a7e"
   }
  }
 },
 "nbformat": 4,
 "nbformat_minor": 2
}

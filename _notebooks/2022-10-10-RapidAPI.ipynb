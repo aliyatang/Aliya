{
 "cells": [
  {
   "cell_type": "markdown",
   "metadata": {},
   "source": [
    "# Python Rapid API\n",
    "> Example of implementing API\n",
    "- categories: [jupyter, week7]"
   ]
  },
  {
   "cell_type": "markdown",
   "metadata": {},
   "source": [
    "## Weather"
   ]
  },
  {
   "cell_type": "code",
   "execution_count": 2,
   "metadata": {},
   "outputs": [
    {
     "name": "stdout",
     "output_type": "stream",
     "text": [
      "\n",
      "------ Summary weather ---- \n",
      "\n",
      "San Diego\n",
      "2022-10-10T20:00:00 Scattered clouds 17.6\n",
      "\n",
      "------ Detailed weather API response ---- \n",
      "\n",
      "clouds_hi 90\n",
      "clouds_low 9\n",
      "clouds_mid 0\n",
      "snow 0\n",
      "dni 0\n",
      "temp 17.6\n",
      "app_temp 17.6\n",
      "wind_cdir W\n",
      "rh 91\n",
      "pod n\n",
      "pres 989.5\n",
      "timestamp_utc 2022-10-11T03:00:00\n",
      "timestamp_local 2022-10-10T20:00:00\n",
      "clouds 22\n",
      "snow_depth 0\n",
      "wind_spd 1.32\n",
      "wind_cdir_full west\n",
      "slp 1013\n",
      "datetime 2022-10-11:03\n",
      "ts 1665457200\n",
      "dewpt 16.1\n",
      "uv 0\n",
      "wind_gust_spd 1.84\n",
      "wind_dir 267\n",
      "ghi 0\n",
      "dhi 0\n",
      "precip 0\n",
      "weather {'description': 'Scattered clouds', 'code': 802, 'icon': 'c02n'}\n",
      "pop 0\n",
      "ozone 297\n",
      "vis 13.096\n",
      "solar_rad 0\n"
     ]
    }
   ],
   "source": [
    "\"\"\"\n",
    "Requests is a HTTP library for the Python programming language. \n",
    "The goal of the project is to make HTTP requests simpler and more human-friendly. \n",
    "RapidAPI is the world's largest API Marketplace. \n",
    "Developers use Rapid API to discover and connect to thousands of APIs. \n",
    "The api used below are from\n",
    "https://rapidapi.com/collection/list-of-free-apis\n",
    "https://rapidapi.com/weatherbit/api/weather/\n",
    "\"\"\"\n",
    "import requests\n",
    "\n",
    "url = \"https://weatherbit-v1-mashape.p.rapidapi.com/forecast/3hourly\"\n",
    "\n",
    "querystring = {\"lat\":\"35.5\",\"lon\":\"-78.5\",\"postal_code\":\"92127\"} # Added zip code to the query string\n",
    "\n",
    "headers = {\n",
    "\t\"X-RapidAPI-Key\": \"e518d32506mshebee640d7001529p1f8128jsnaa52ade28413\",\n",
    "\t\"X-RapidAPI-Host\": \"weatherbit-v1-mashape.p.rapidapi.com\"\n",
    "}\n",
    "\n",
    "response = requests.request(\"GET\", url, headers=headers, params=querystring)\n",
    "\n",
    "# print(response.text)   # <- raw data is too long !!!\n",
    "print(\"\\n------ Summary weather ---- \\n\")\n",
    "res = response.json()  # convert response to python json object\n",
    "print(res[\"city_name\"])\n",
    "\n",
    "# only print the first item in the data\n",
    "data0 = res[\"data\"][0]\n",
    "\n",
    "print(data0[\"timestamp_local\"]+\" \"+data0[\"weather\"][\"description\"] +\" \" + str(data0[\"temp\"]))\n",
    "print(\"\\n------ Detailed weather API response ---- \\n\")\n",
    "# here are all the items in data0\n",
    "for key, value in data0.items():  # print all items in data0\n",
    "\tprint(key, value)"
   ]
  }
 ],
 "metadata": {
  "kernelspec": {
   "display_name": "Python 3.10.6 64-bit",
   "language": "python",
   "name": "python3"
  },
  "language_info": {
   "codemirror_mode": {
    "name": "ipython",
    "version": 3
   },
   "file_extension": ".py",
   "mimetype": "text/x-python",
   "name": "python",
   "nbconvert_exporter": "python",
   "pygments_lexer": "ipython3",
   "version": "3.10.6"
  },
  "orig_nbformat": 4,
  "vscode": {
   "interpreter": {
    "hash": "b0fa6594d8f4cbf19f97940f81e996739fb7646882a419484c72d19e05852a7e"
   }
  }
 },
 "nbformat": 4,
 "nbformat_minor": 2
}

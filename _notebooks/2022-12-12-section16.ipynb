{
 "cells": [
  {
   "attachments": {},
   "cell_type": "markdown",
   "metadata": {},
   "source": [
    "# Section 16\n",
    "- toc: true\n",
    "- comments: true\n",
    "- categories: [Week-16, Big-Idea-3]\n"
   ]
  },
  {
   "cell_type": "markdown",
   "metadata": {},
   "source": [
    "### Hack #1 - Class Notes\n",
    "\n",
    "- Simulations\n",
    "- Abstractions that mimic more complex objects or phenomena from the real word, able to draw inferences without constraints of the real world\n",
    "- Use varying sets of values to reflect the changing state of a real phenomnom\n",
    "- Remove specific details an simplify aspects, contain bias based on what is included or excluded\n",
    "- Formulation of hypothese un der consideration\n",
    "- Variability and randomess with random number generators\n",
    "- Ex: rolling dice, spinner, molecular models, analyze chmicals/reactions\n",
    "\n",
    "Random: import random\n",
    "- random.choice() - returns a randomly selected element from the specified sequence\n",
    "- random.choice(mylist) - returns random value from list\n",
    "- random.randint(0,10) - randomly selects an integer from given range; range in this case is from 0 to 10\n",
    "- random.random() - will generate a random float between 0.0 to 1.\n",
    "\n",
    "Question:\n",
    "Question: The following code simulates the feeding of 4 fish in an aquarium while the owner is on a 5-day trip:\n",
    "\n",
    "numFish ← 4\n",
    "\n",
    "foodPerDay ← 20\n",
    "\n",
    "foodLeft ← 160\n",
    "\n",
    "daysStarving ← 0\n",
    "\n",
    "REPEAT 5 TIMES {\n",
    "\n",
    "foodConsumed ← numFish * foodPerDay\n",
    "\n",
    "foodLeft ← foodLeft - foodConsumed\n",
    "\n",
    "IF (foodLeft < 0) {\n",
    "\n",
    "    daysStarving ← daysStarving + 1\n",
    "\n",
    "}\n",
    "\n",
    "Why is this simulation considered an abstraction?\n",
    "\n",
    "1: It uses a conditional to execute one part of the code only when a particular condition is met.\n",
    "2: It uses a REPEAT loop to run the same block of code multiple times.\n",
    "3: It simplifies a real-world scenario into something that can be modeled in code and executed on a computer.\n",
    "4: It does not request input from the user or display output to the user.\n",
    "\n",
    "Answer: #3 - An abstraction redefinesor simplifies something, which is what 3 talks about\n",
    "\n"
   ]
  },
  {
   "cell_type": "markdown",
   "metadata": {},
   "source": [
    "### Hack #2 - Functions Classwork\n"
   ]
  },
  {
   "cell_type": "code",
   "execution_count": 3,
   "metadata": {},
   "outputs": [
    {
     "name": "stdout",
     "output_type": "stream",
     "text": [
      "81\n"
     ]
    }
   ],
   "source": [
    "import random\n",
    "x = random.randint(1,100)\n",
    "print(x)"
   ]
  },
  {
   "cell_type": "code",
   "execution_count": 9,
   "metadata": {},
   "outputs": [
    {
     "name": "stdout",
     "output_type": "stream",
     "text": [
      "['green pants', 'tie', 'belt']\n"
     ]
    }
   ],
   "source": [
    "import random\n",
    "def mycloset():\n",
    "    myclothes = [\"red shoes\", \"green pants\", \"tie\", \"belt\"]\n",
    "    x = random.choice(myclothes)\n",
    "    ans = input(\"Would you like to keep your \" + x + \"? : (y/n)\")\n",
    "    if ans == \"n\":\n",
    "        myclothes.remove(x)\n",
    "        print(myclothes)\n",
    "    else: \n",
    "        print(myclothes)\n",
    "mycloset()"
   ]
  },
  {
   "cell_type": "code",
   "execution_count": 12,
   "metadata": {},
   "outputs": [
    {
     "name": "stdout",
     "output_type": "stream",
     "text": [
      "Tails\n",
      "Heads\n",
      "Heads\n",
      "Heads\n",
      "Tails\n"
     ]
    }
   ],
   "source": [
    "import random\n",
    "\n",
    "def coinflip():         #def function \n",
    "    randomflip = random.randint(0, 2) #picks either 0 or 1 randomly (50/50 chance of either) \n",
    "    if randomflip == 0 or randomflip == 2: #assigning 0 to be heads--> if 0 is chosen then it will print, \"Heads\"\n",
    "        print(\"Heads\")\n",
    "    else:\n",
    "        if randomflip == 1: #assigning 1 to be tails--> if 1 is chosen then it will print, \"Tails\"\n",
    "            print(\"Tails\")\n",
    "\n",
    "#Tossing the coin 5 times:\n",
    "t1 = coinflip()\n",
    "t2 = coinflip()\n",
    "t3 = coinflip()\n",
    "t4 = coinflip()\n",
    "t5 = coinflip()"
   ]
  },
  {
   "cell_type": "markdown",
   "metadata": {},
   "source": [
    "Explanation: Here, I changed the range of the random.randint() function. I also changed it so that if this outcome is 0 or 2 it is heads. Since there are 3 possible outcomes of this function, 0 or 1 or 2, and 2/3 of those options are heads, the coin flip is now unequal. 2/3 chance for heads, and 1/3 chance for tails."
   ]
  },
  {
   "cell_type": "markdown",
   "metadata": {},
   "source": [
    "### Hack #3 - Binary Simulation Problem"
   ]
  },
  {
   "cell_type": "code",
   "execution_count": 58,
   "metadata": {},
   "outputs": [
    {
     "name": "stdout",
     "output_type": "stream",
     "text": [
      "46\n",
      "[0, 0, 1, 0, 1, 1, 1, 0]\n"
     ]
    }
   ],
   "source": [
    "# insert your zombie simulation here; you don't have to use this template but it will help you get started\n",
    "\n",
    "import random\n",
    "\n",
    "def randomnum(): # function for generating random int\n",
    "    x = random.randint(0,255)\n",
    "    print(x)\n",
    "    return x\n",
    "\n",
    "x = randomnum()\n",
    "\n",
    "nums = []\n",
    "def converttobin(x): # function for converting decimal to binary\n",
    "    while x/2 != 0:\n",
    "        rem = x % 2\n",
    "        nums.append(rem)\n",
    "        x = int(x/2)\n",
    "    while len(nums) < 8:\n",
    "        nums.append(0)\n",
    "    nums.reverse()\n",
    "    print(nums)\n",
    "    return nums\n",
    "   \n",
    "bin = converttobin(x)\n",
    "\n",
    "def survivors(bin): # function to assign position\n",
    "    survivorstatus = [\"Jiya\", \"Shruthi\", \"Noor\", \"Ananya\" , \"Peter Parker\", \"Andrew Garfield\", \"Tom Holland\", \"Tobey Maguire\"]\n",
    "    "
   ]
  },
  {
   "cell_type": "markdown",
   "metadata": {},
   "source": [
    "### Hack #4 - Thinking through a problem\n",
    "- create your own simulation involving a dice roll\n",
    "- should include randomization and a function for rolling + multiple trials"
   ]
  },
  {
   "attachments": {},
   "cell_type": "markdown",
   "metadata": {},
   "source": [
    "### Hack 5 - Applying your knowledge to situation based problems\n",
    "\n",
    "Using the questions bank below, create a quiz that presents the user a random question and calculates the user's score. You can use the template below or make your own. Making your own using a loop can give you extra points. "
   ]
  },
  {
   "attachments": {},
   "cell_type": "markdown",
   "metadata": {},
   "source": [
    "1. A researcher gathers data about the effect of Advanced Placement®︎ classes on students' success in college and career, and develops a simulation to show how a sequence of AP classes affect a hypothetical student's pathway.Several school administrators are concerned that the simulation contains bias favoring high-income students, however.\n",
    "    - answer options:\n",
    "        1. The simulation is an abstraction and therefore cannot contain any bias\n",
    "        2. The simulation may accidentally contain bias due to the exclusion of details.\n",
    "        3. If the simulation is found to contain bias, then it is not possible to remove the bias from the simulation.\n",
    "        4. The only way for the simulation to be biased is if the researcher intentionally used data that favored their desired output.\n",
    "2. Jack is trying to plan his financial future using an online tool. The tool starts off by asking him to input details about his current finances and career. It then lets him choose different future scenarios, such as having children. For each scenario chosen, the tool does some calculations and outputs his projected savings at the ages of 35, 45, and 55.Would that be considered a simulation and why?\n",
    "    - answer options\n",
    "        1. No, it's not a simulation because it does not include a visualization of the results.\n",
    "        2. No, it's not a simulation because it does not include all the details of his life history and the future financial environment.\n",
    "        3. Yes, it's a simulation because it runs on a computer and includes both user input and computed output.\n",
    "        4. Yes, it's a simulation because it is an abstraction of a real world scenario that enables the drawing of inferences.\n",
    "3. Sylvia is an industrial engineer working for a sporting goods company. She is developing a baseball bat that can hit balls with higher accuracy and asks their software engineering team to develop a simulation to verify the design.Which of the following details is most important to include in this simulation?\n",
    "    - answer options\n",
    "        1. Realistic sound effects based on the material of the baseball bat and the velocity of the hit\n",
    "        2. A depiction of an audience in the stands with lifelike behavior in response to hit accuracy\n",
    "        3. Accurate accounting for the effects of wind conditions on the movement of the ball\n",
    "        4. A baseball field that is textured to differentiate between the grass and the dirt\n",
    "4. Ashlynn is an industrial engineer who is trying to design a safer parachute. She creates a computer simulation of the parachute opening at different heights and in different environmental conditions.What are advantages of running the simulation versus an actual experiment?\n",
    "    - answer options\n",
    "        1. The simulation will not contain any bias that favors one body type over another, while an experiment will be biased.\n",
    "        2. The simulation can be run more safely than an actual experiment\n",
    "        3. The simulation will accurately predict the parachute's safety level, while an experiment may be inaccurate due to faulty experimental design.\n",
    "        4. The simulation can test the parachute design in a wide range of environmental conditions that may be difficult to reliably reproduce in an experiment.\n",
    "    * this question has 2 correct answers\n",
    "5. YOUR OWN QUESTION; can be situational, pseudo code based, or vocab/concept based\n",
    "6. YOUR OWN QUESTION; can be situational, pseudo code based, or vocab/concept based"
   ]
  },
  {
   "cell_type": "code",
   "execution_count": null,
   "metadata": {},
   "outputs": [],
   "source": [
    "questions = 6\n",
    "correct = 0\n",
    "\n",
    "\n",
    "Q1 = input()\n",
    "if Q1 == :\n",
    "    \n",
    "\n",
    "Q2 = input()\n",
    "if Q2 == :\n",
    "   \n",
    "Q3 = input()\n",
    "if Q3 == :\n",
    "   \n",
    "\n",
    "Q4 = input()\n",
    "\n",
    "\n",
    "\n",
    "\n",
    "print( \" you scored \" + str(correct) +\"/\" + str(questions))"
   ]
  },
  {
   "attachments": {},
   "cell_type": "markdown",
   "metadata": {},
   "source": [
    "### Hack #6 / Challenge - Taking real life problems and implementing them into code"
   ]
  },
  {
   "attachments": {},
   "cell_type": "markdown",
   "metadata": {},
   "source": [
    "Create your own simulation based on your experiences/knowledge!\n",
    "Be creative! Think about instances in your own life, science, puzzles that can be made into simulations\n",
    "\n",
    "Some ideas to get your brain running: A simulation that breeds two plants and tells you phenotypes of offspring, an adventure simulation..."
   ]
  }
 ],
 "metadata": {
  "kernelspec": {
   "display_name": "Python 3.10.6 64-bit",
   "language": "python",
   "name": "python3"
  },
  "language_info": {
   "codemirror_mode": {
    "name": "ipython",
    "version": 3
   },
   "file_extension": ".py",
   "mimetype": "text/x-python",
   "name": "python",
   "nbconvert_exporter": "python",
   "pygments_lexer": "ipython3",
   "version": "3.10.6"
  },
  "orig_nbformat": 4,
  "vscode": {
   "interpreter": {
    "hash": "b0fa6594d8f4cbf19f97940f81e996739fb7646882a419484c72d19e05852a7e"
   }
  }
 },
 "nbformat": 4,
 "nbformat_minor": 2
}

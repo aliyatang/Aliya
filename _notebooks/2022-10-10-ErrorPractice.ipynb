{
 "cells": [
  {
   "cell_type": "markdown",
   "metadata": {},
   "source": [
    "# Identifying and Correcting Errors Practice\n",
    "> Practice to correct code segments with errors\n",
    "- categories: [jupyter, week7]"
   ]
  },
  {
   "cell_type": "code",
   "execution_count": 14,
   "metadata": {},
   "outputs": [
    {
     "name": "stdout",
     "output_type": "stream",
     "text": [
      "['a', 'b', 'c', 'd', 'e', 'f', 'g', 'h', 'i', 'j', 'k', 'l', 'm', 'n', 'o', 'p', 'q', 'r', 's', 't', 'u', 'v', 'w', 'x', 'y', 'z']\n",
      "The letter 8 is not in the alphabet\n"
     ]
    }
   ],
   "source": [
    "alphabet = \"abcdefghijklmnopqrstuvwxyz\"\n",
    "\n",
    "alphabetList = []\n",
    "\n",
    "for i in alphabet:\n",
    "    alphabetList.append(i)\n",
    "\n",
    "print(alphabetList)\n",
    "\n",
    "# case 1: using while loop\n",
    "letter = input(\"What letter would you like to check?\")\n",
    "\n",
    "i = 0\n",
    "pos = -1\n",
    "while i < 26:\n",
    "    if alphabetList[i] == letter:\n",
    "        print(\"The letter \" + letter + \" is the \" + str(i) + \" letter in the alphabet\")\n",
    "        pos = i\n",
    "        break\n",
    "    i += 1\n",
    "    \n",
    "# test case\n",
    "if pos == -1:\n",
    "    print(\"The letter \" + letter + \" is not in the alphabet\")\n",
    "elif alphabetList[pos] != letter:\n",
    "    print(\"The letter \" + letter + \" is not the \" + str(pos) + \" letter in the alphabet\")\n",
    "\n"
   ]
  },
  {
   "cell_type": "code",
   "execution_count": 13,
   "metadata": {},
   "outputs": [
    {
     "name": "stdout",
     "output_type": "stream",
     "text": [
      "['a', 'b', 'c', 'd', 'e', 'f', 'g', 'h', 'i', 'j', 'k', 'l', 'm', 'n', 'o', 'p', 'q', 'r', 's', 't', 'u', 'v', 'w', 'x', 'y', 'z']\n",
      "The letter a is the 0 letter in the alphabet\n"
     ]
    }
   ],
   "source": [
    "alphabet = \"abcdefghijklmnopqrstuvwxyz\"\n",
    "\n",
    "alphabetList = []\n",
    "\n",
    "for i in alphabet:\n",
    "    alphabetList.append(i)\n",
    "\n",
    "print(alphabetList)\n",
    "\n",
    "\n",
    "# case 1: using for loop\n",
    "# move the count = 0 outside of the for loop\n",
    "letter = input(\"What letter would you like to check?\")\n",
    "count = 0\n",
    "pos = -1\n",
    "for i in alphabetList:\n",
    "    if i == letter:\n",
    "        print(\"The letter \" + letter + \" is the \" + str(count) + \" letter in the alphabet\")\n",
    "        pos = count\n",
    "        break\n",
    "    count += 1\n",
    "\n",
    "# test case\n",
    "if pos == -1:\n",
    "    print(\"The letter \" + letter + \" is not in the alphabet\")\n",
    "elif alphabetList[pos] != letter:\n",
    "    print(\"The letter \" + letter + \" is not the \" + str(pos) + \" letter in the alphabet\")"
   ]
  },
  {
   "cell_type": "code",
   "execution_count": 15,
   "metadata": {},
   "outputs": [
    {
     "name": "stdout",
     "output_type": "stream",
     "text": [
      "[1, 3, 5, 7, 9]\n"
     ]
    }
   ],
   "source": [
    "# Edit the initial value of i from 0 to 1 to change from printing even to odd\n",
    "odds = []\n",
    "i = 1\n",
    "\n",
    "\n",
    "while i <= 10:\n",
    "    odds.append(i)\n",
    "    i += 2\n",
    "\n",
    "print(odds)"
   ]
  },
  {
   "cell_type": "code",
   "execution_count": 16,
   "metadata": {},
   "outputs": [
    {
     "name": "stdout",
     "output_type": "stream",
     "text": [
      "[1, 3, 5, 7, 9]\n"
     ]
    }
   ],
   "source": [
    "# Edit the % 2 == 0 to % 2 != 0 to change from printing even to odd\n",
    "numbers = [0,1,2,3,4,5,6,7,8,9,10]\n",
    "odds = []\n",
    "\n",
    "for i in numbers:\n",
    "    if (numbers[i] % 2 != 0):\n",
    "        odds.append(numbers[i])\n",
    "\n",
    "print(odds)"
   ]
  },
  {
   "cell_type": "code",
   "execution_count": 17,
   "metadata": {},
   "outputs": [
    {
     "name": "stdout",
     "output_type": "stream",
     "text": [
      "[0, 2, 4, 5, 6, 8, 10, 12, 14, 15, 16, 18, 20, 22, 24, 25, 26, 28, 30, 32, 34, 35, 36, 38, 40, 42, 44, 45, 46, 48, 50, 52, 54, 55, 56, 58, 60, 62, 64, 65, 66, 68, 70, 72, 74, 75, 76, 78, 80, 82, 84, 85, 86, 88, 90, 92, 94, 95, 96, 98]\n"
     ]
    }
   ],
   "source": [
    "# Change the second if to elif to prevent duplicate numbers\n",
    "numbers = []\n",
    "newNumbers = []\n",
    "i = 0\n",
    "\n",
    "while i < 100:\n",
    "    numbers.append(i)\n",
    "    i += 1\n",
    "\n",
    "for i in numbers:\n",
    "    if numbers[i] % 5 == 0:\n",
    "        newNumbers.append(numbers[i])\n",
    "    elif numbers[i] % 2 == 0:\n",
    "        newNumbers.append(numbers[i])\n",
    "\n",
    "print(newNumbers) "
   ]
  },
  {
   "cell_type": "markdown",
   "metadata": {},
   "source": [
    "## Challenge"
   ]
  },
  {
   "cell_type": "code",
   "execution_count": 19,
   "metadata": {},
   "outputs": [
    {
     "name": "stdout",
     "output_type": "stream",
     "text": [
      "Menu\n",
      "burger  $3.99\n",
      "fries  $1.99\n",
      "drink  $0.99\n",
      "you have selected burger, price is 3.99\n",
      "\n",
      "pizza is not in menu, please reselect\n",
      "\n",
      "you have selected fries, price is 1.99\n",
      "\n",
      "Thanks for your selection\n",
      "\n",
      "Your total is 5.98\n"
     ]
    }
   ],
   "source": [
    "# Add a while loop to allow user to select multiple items and add multiple prices together\n",
    "# Also test if user input is on the menu, e.g. if inputted 'pizza' it will output that it is not on the menu\n",
    "menu =  {\"burger\": 3.99,\n",
    "         \"fries\": 1.99,\n",
    "         \"drink\": 0.99}\n",
    "total = 0\n",
    "\n",
    "#shows the user the menu and prompts them to select an item\n",
    "print(\"Menu\")\n",
    "for k,v in menu.items():\n",
    "    print(k + \"  $\" + str(v)) #why does v have \"str\" in front of it?\n",
    "\n",
    "#ideally the code should prompt the user multiple times\n",
    "while True:\n",
    "    item = input(\"Please select an item from the menu. Type q if done\\n\")\n",
    "    if item == 'q':\n",
    "       print(\"Thanks for your selection\\n\")\n",
    "       break\n",
    "    elif item not in menu.keys():\n",
    "       print(item + \" is not in menu, please reselect\\n\")\n",
    "    else:\n",
    "       print(\"you have selected \"+item+\", price is \"+str(menu[item])+\"\\n\")\n",
    "       total += menu[item]\n",
    "\n",
    "#code should add the price of the menu items selected by the user \n",
    "print(\"Your total is \"+str(total))"
   ]
  }
 ],
 "metadata": {
  "kernelspec": {
   "display_name": "Python 3.10.6 64-bit",
   "language": "python",
   "name": "python3"
  },
  "language_info": {
   "name": "python",
   "version": "3.10.6"
  },
  "orig_nbformat": 4,
  "vscode": {
   "interpreter": {
    "hash": "b0fa6594d8f4cbf19f97940f81e996739fb7646882a419484c72d19e05852a7e"
   }
  }
 },
 "nbformat": 4,
 "nbformat_minor": 2
}

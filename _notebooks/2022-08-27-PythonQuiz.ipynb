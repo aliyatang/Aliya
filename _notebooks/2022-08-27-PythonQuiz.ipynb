{
 "cells": [
  {
   "cell_type": "markdown",
   "metadata": {},
   "source": [
    "# Python Quiz\n",
    "> Vocabulary quiz testing python terms!"
   ]
  },
  {
   "cell_type": "code",
   "execution_count": 2,
   "metadata": {},
   "outputs": [
    {
     "name": "stdout",
     "output_type": "stream",
     "text": [
      "Hello, aliyatang! Welcome to my quiz. :)\n",
      "Do you want to take the quiz? (y/n)\n",
      "Alright! You will be asked 4 questions about python terms. Let's get started!\n",
      "Q1: What symbol do you use to concatinate/combine two strings?:\n",
      "+ is correct! Nice job.\n",
      "Q2: How do you check if a string consists of all lowercase letters?:\n",
      "islower is correct! Nice job.\n",
      "Q3: What function do you use to get user input?:\n",
      "input is correct! Nice job.\n",
      "Q4: How do you define a function or method?:\n",
      "Sorry that's not right. Next question!\n",
      "Nice try, aliyatang! You scored 3/4 on this quiz.\n"
     ]
    }
   ],
   "source": [
    "import getpass\n",
    "\n",
    "def q_w_r(question, answer):\n",
    "    print(question)\n",
    "    res = input(question)\n",
    "    if res == answer:\n",
    "        print(res + \" is correct! Nice job.\")\n",
    "        points = 1\n",
    "    else:\n",
    "        print(\"Sorry that's not right. Next question!\")\n",
    "        points = 0\n",
    "    return points\n",
    "\n",
    "questions = 4\n",
    "score = 0\n",
    "\n",
    "print('Hello, ' + getpass.getuser() + \"! Welcome to my quiz. :)\")\n",
    "\n",
    "print(\"Do you want to take the quiz? (y/n)\")\n",
    "reply = input(\"Do you want to take the quiz? (y/n)\")\n",
    "\n",
    "if reply == \"n\":\n",
    "    print(\"Alright then, have a nice day!\")\n",
    "    quit()\n",
    "else:\n",
    "    print(\"Alright! You will be asked \" + str(questions) + \" questions about python terms. Let's get started!\")\n",
    "\n",
    "#questions 1-4\n",
    "score += q_w_r(\"Q1: What symbol do you use to concatinate/combine two strings?:\", \"+\")\n",
    "\n",
    "score += q_w_r(\"Q2: How do you check if a string consists of all lowercase letters?:\", \"islower\" )\n",
    "\n",
    "score += q_w_r(\"Q3: What function do you use to get user input?:\", \"input\")\n",
    "\n",
    "score += q_w_r(\"Q4: How do you define a function or method?:\", \"def\")\n",
    "\n",
    "print(\"Nice try, \" + getpass.getuser() + \"! You scored \" + str(score) +\"/\" + str(questions) + \" on this quiz.\")\n"
   ]
  }
 ],
 "metadata": {
  "kernelspec": {
   "display_name": "Python 3.10.6 64-bit",
   "language": "python",
   "name": "python3"
  },
  "language_info": {
   "name": "python",
   "version": "3.10.6"
  },
  "orig_nbformat": 4,
  "vscode": {
   "interpreter": {
    "hash": "b0fa6594d8f4cbf19f97940f81e996739fb7646882a419484c72d19e05852a7e"
   }
  }
 },
 "nbformat": 4,
 "nbformat_minor": 2
}

{
 "cells": [
  {
   "cell_type": "markdown",
   "metadata": {},
   "source": [
    "# App Lab with Code.org\n",
    "> The process of making a quiz with Code.org\n",
    "\n",
    "- categories: [markdown, week3]"
   ]
  },
  {
   "cell_type": "markdown",
   "metadata": {},
   "source": [
    "Link to App Lab: [Click Here!](https://studio.code.org/projects/applab/OyC3MXvrCsUPUaCz5cKOwqOxxgecgwCCZNT6RzsMBzE)"
   ]
  },
  {
   "cell_type": "markdown",
   "metadata": {},
   "source": [
    "## Outline\n",
    "\n",
    "Quiz Ideas:\n",
    " - Album Cover Quiz\n",
    " - Random Trivia Quiz\n",
    " - Disney Princess Quiz\n",
    " - Country Flag Quiz\n",
    "\n",
    " Two Modes:\n",
    " - Easy mode: Multiple choice questions\n",
    " - Hard mode: Text input / More mchoice options / Harder character to guess\n",
    "\n",
    " Basic Things To Implement:\n",
    " - Home Button\n",
    " - Next Button\n",
    " - Back Button (?)\n",
    " - Start and End Screen\n"
   ]
  },
  {
   "cell_type": "markdown",
   "metadata": {},
   "source": [
    "## Problems During the Process\n",
    "\n",
    "- Code.org uses JavaScript in block form, which I'm not too familiar with. When trying to implement different things with the blocks like if/else statements, defining variables, etc, I had to go through a lot of trial and error to see what would work. \n",
    "\n",
    "- When changing to the text mode to edit, it was very confusing and took some time getting used to. Overall, I found it helpful to mostly stick with the blocks, and occasionally switch to text mode and compare the blocks and the actual code to get familiar with it.\n",
    "\n",
    "- A specific problem I ran into while coding my App Lab was the text input part where a user inputs an answer to the question. I needed to check if the answer inputted is correct. I tried out several different blocks and block combinations until I found something that worked. I also searched online for JavaScript syntax to compare to the text version of my code. \n",
    "\n",
    "- Another specific problem was the if/else statement that was used to check if the user's inputted answer is correct (ex: if the text input = \"answer\", then... else: then...). I wanted to add two different answers that were very similar in the 'if' part. I recalled that you are able to use \"or\" in python, and searched online to find that || operator is JavaScipt's \"or\". However, when I usedthe || operator it messed up my code and showed errors. In the end, I was able figure it out and implement it by using \"elif\"."
   ]
  },
  {
   "cell_type": "markdown",
   "metadata": {},
   "source": [
    "## Things To Try Implementing In The Future\n",
    "\n",
    "- Number of tries counter and displayer\n",
    "- End screen statistics"
   ]
  }
 ],
 "metadata": {
  "kernelspec": {
   "display_name": "Python 3.10.6 64-bit",
   "language": "python",
   "name": "python3"
  },
  "language_info": {
   "name": "python",
   "version": "3.10.6"
  },
  "orig_nbformat": 4,
  "vscode": {
   "interpreter": {
    "hash": "b0fa6594d8f4cbf19f97940f81e996739fb7646882a419484c72d19e05852a7e"
   }
  }
 },
 "nbformat": 4,
 "nbformat_minor": 2
}

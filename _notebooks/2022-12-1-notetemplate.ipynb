{
 "cells": [
  {
   "cell_type": "markdown",
   "metadata": {},
   "source": [
    "# Sections 12-13\n",
    "\n",
    "- toc: true \n",
    "- badges: true\n",
    "- comments: [Week-14,Big-Idea-3]"
   ]
  },
  {
   "cell_type": "markdown",
   "metadata": {},
   "source": [
    "# Take some additional notes that you would like here for 3.12 and 3.13. We will be looking for additional notes from the presentation. \n"
   ]
  },
  {
   "cell_type": "markdown",
   "metadata": {},
   "source": [
    "# What are procedures?\n",
    "\n",
    "**Fill in the blanks please:**\n",
    "\n",
    "Procedure: named group of programming instructions that may have parameters and return values, can also be referred as method or function, depending on the language\n",
    "\n",
    "Parameters: input values of a procedure\n",
    "\n",
    "Arguments: specify the values of the parameters when a procedure is called\n",
    "\n",
    "Modularity: change the actions if there is an error in the code\n",
    "\n",
    "Procedural Abstraction: type of abstraction which provides a name for a process that allows a procedure to be used only knowing WHAT it does, not HOW it does it\n",
    "\n",
    "What are some other names for procedures?: modularity   12222222 5\n",
    "\n",
    "Why are procedures effective?: ability to alter the result without actually changing the calls to the program, convenient to change the actions if there is an error in the code (modularity)\n"
   ]
  },
  {
   "attachments": {},
   "cell_type": "markdown",
   "metadata": {},
   "source": [
    "## <mark>Challenge 1</mark> below: Add the command that will **call** the procedure. "
   ]
  },
  {
   "cell_type": "code",
   "execution_count": 2,
   "metadata": {
    "vscode": {
     "languageId": "javascript"
    }
   },
   "outputs": [
    {
     "name": "stdout",
     "output_type": "stream",
     "text": [
      "7 to binary:  111\n"
     ]
    }
   ],
   "source": [
    "x = 7\n",
    "nums = []\n",
    "\n",
    "def convertToBinary(x):\n",
    "    if x >= 1 and x <= 255:\n",
    "        while x/2 != 0:\n",
    "            rem = x % 2\n",
    "            nums.append(rem)\n",
    "            x = int(x/2)\n",
    "        nums.reverse()\n",
    "        binary = \" \"\n",
    "        for i in nums:\n",
    "            binary = binary + str(i)\n",
    "        return binary\n",
    "    else:\n",
    "        print(\"Number not within range.\")\n",
    "\n",
    "print(str(x) + \" to binary: \" + convertToBinary(x)) ## Function called here"
   ]
  },
  {
   "attachments": {},
   "cell_type": "markdown",
   "metadata": {},
   "source": [
    "## <mark>Challenge 2</mark> below: Complete the Min and Max procedure in either JavaScript and Python using the instructions from the JavaScript page. (JavaScript will get you a extra 0.1)"
   ]
  },
  {
   "cell_type": "code",
   "execution_count": 5,
   "metadata": {
    "vscode": {
     "languageId": "javascript"
    }
   },
   "outputs": [
    {
     "name": "stdout",
     "output_type": "stream",
     "text": [
      "The max is 5\n",
      "The min is 4\n"
     ]
    }
   ],
   "source": [
    "function findMax(numA, numB) {\n",
    "    if (numA > numB) {\n",
    "        max = numA\n",
    "        min = numB\n",
    "      } else if (numA < numB) {\n",
    "        max = numB\n",
    "        min = numA\n",
    "      } else {\n",
    "        console.log(\"Numbers are equal.\")\n",
    "      }\n",
    "    console.log(\"The max is \" + max)\n",
    "    console.log(\"The min is \" + min)\n",
    "    }\n",
    "\n",
    "findMax(4, 5)\n"
   ]
  },
  {
   "attachments": {},
   "cell_type": "markdown",
   "metadata": {},
   "source": [
    "## <mark>Homework/Hacks</mark>: For the hw, you have two options, easy or hard. The easy hack is for a 2.7 + extra work for the full 3. The easy hack is simply creating your own procedure with your own creativity. Since there is a lot of leeway for this one, you must do additional work to get a 3. For the hard hack, below is the start to a character to binary convertor. This is just a template, but the goal is to translate \"APCSP\" into binary. You can delete the existing code if you want. The only contraint is that you must use a procedure. Doing this will get you a 3. "
   ]
  },
  {
   "cell_type": "code",
   "execution_count": 5,
   "metadata": {
    "vscode": {
     "languageId": "javascript"
    }
   },
   "outputs": [
    {
     "name": "stdout",
     "output_type": "stream",
     "text": [
      "''APCSP'' in binary is \n",
      "[1000001, 1010000, 1000011, 1010011, 1010000]\n"
     ]
    }
   ],
   "source": [
    "def charToBinary(x):()\n",
    "\n",
    "\n",
    "# The output shown below is the output you are supposed to get"
   ]
  }
 ],
 "metadata": {
  "kernelspec": {
   "display_name": "Python 3.9.12 ('base')",
   "language": "python",
   "name": "python3"
  },
  "language_info": {
   "file_extension": ".js",
   "mimetype": "application/javascript",
   "name": "python",
   "version": "3.9.12"
  },
  "orig_nbformat": 4,
  "vscode": {
   "interpreter": {
    "hash": "229356a43b4b009667998a5688566d3cdc6138ccfeebc05ae2d0dd3ad0d89f73"
   }
  }
 },
 "nbformat": 4,
 "nbformat_minor": 2
}

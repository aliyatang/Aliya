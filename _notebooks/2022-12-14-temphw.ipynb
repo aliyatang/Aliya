{
 "cells": [
  {
   "cell_type": "code",
   "execution_count": null,
   "metadata": {},
   "outputs": [],
   "source": [
    "import random\n",
    "random_number = random.randint(1,100)\n",
    "print(random_number)"
   ]
  },
  {
   "cell_type": "code",
   "execution_count": null,
   "metadata": {},
   "outputs": [],
   "source": [
    "def randomlist():\n",
    "    list = [\"apple\", \"banana\", \"cherry\", \"blueberry\"]\n",
    "    element = random.choice(list)\n",
    "    print(element)\n",
    "randomlist()"
   ]
  },
  {
   "cell_type": "markdown",
   "metadata": {},
   "source": [
    "Real life example: Dice Roll"
   ]
  },
  {
   "cell_type": "code",
   "execution_count": null,
   "metadata": {},
   "outputs": [],
   "source": [
    "import random\n",
    "for i in range(3):\n",
    "    roll = random.randint(1,6)\n",
    "    print(\"Roll \" + str(i + 1) + \":\" + str(roll))"
   ]
  },
  {
   "cell_type": "markdown",
   "metadata": {},
   "source": [
    "## Challenge #1\n",
    "Write a function that will a simulate a coinflip and print the output"
   ]
  },
  {
   "cell_type": "code",
   "execution_count": null,
   "metadata": {},
   "outputs": [],
   "source": [
    "import random\n",
    "def coinflip():\n",
    "    options = [\"Heads\", \"Tails\"]\n",
    "    print(random.choice(options))\n",
    "\n",
    "coinflip()"
   ]
  },
  {
   "cell_type": "markdown",
   "metadata": {},
   "source": [
    "## Homework\n",
    "Given a random decimal number convert it into binary\n",
    "as Extra convert it to hexidecimal as well. \n",
    "\n",
    "Extra: I did a decimal to octal converter too"
   ]
  },
  {
   "cell_type": "code",
   "execution_count": null,
   "metadata": {},
   "outputs": [],
   "source": [
    "import random\n",
    "x = random.randint(1, 255)\n",
    "\n",
    "## Decimal to Binary\n",
    "numsBin = []\n",
    "def convertBin(x):\n",
    "    x = int(x)\n",
    "    while x/2 != 0:\n",
    "        rem = x % 2\n",
    "        numsBin.append(rem)\n",
    "        x = int(x/2)\n",
    "    numsBin.reverse()\n",
    "    binary = \"\"\n",
    "    for i in numsBin:\n",
    "        binary = binary + str(i)\n",
    "    return binary\n",
    "\n",
    "print(str(x) + \" to binary: \" + convertBin(x))\n",
    "\n",
    "## Decimal to Hex\n",
    "numsHex = []\n",
    "dict = {0:'0', 1:'1', 2:'2', 3:'3', 4:'4', 5:'5', 6:'6', 7:'7', 8:'8', 9:'9', 10:'A', 11:'B', 12:'C', 13:'D', 14:'E', 15:'F'}\n",
    "def convertHex(x):\n",
    "    x = int(x)\n",
    "    while x/16 != 0:\n",
    "        rem = x % 16\n",
    "        numsHex.append(dict[rem])\n",
    "        x = int(x/16)\n",
    "    numsHex.reverse()\n",
    "    hex = \"\"\n",
    "    for i in numsHex:\n",
    "        hex = hex + str(i)\n",
    "    return hex\n",
    "\n",
    "print(str(x) + \" to hexidecimal: \" + str(convertHex(x)))\n",
    "\n",
    "\n",
    "## Decimal to Octal\n",
    "numsOct = []\n",
    "def convertOct(x):\n",
    "    x = int(x)\n",
    "    if x < 8:\n",
    "        octal = x\n",
    "        return octal\n",
    "    else:\n",
    "        while x/8 != 0:\n",
    "            rem = x % 8\n",
    "            numsOct.append(rem)\n",
    "            x = int(x/8)\n",
    "        numsOct.reverse()\n",
    "        octal = \" \"\n",
    "        for i in numsOct:\n",
    "            octal = octal + str(i)\n",
    "        return octal\n",
    "\n",
    "print(str(x) + \" to octal: \" + str(convertOct(x)))"
   ]
  }
 ],
 "metadata": {
  "kernelspec": {
   "display_name": "Python 3.10.6 64-bit",
   "language": "python",
   "name": "python3"
  },
  "language_info": {
   "name": "python",
   "version": "3.10.6"
  },
  "orig_nbformat": 4,
  "vscode": {
   "interpreter": {
    "hash": "b0fa6594d8f4cbf19f97940f81e996739fb7646882a419484c72d19e05852a7e"
   }
  }
 },
 "nbformat": 4,
 "nbformat_minor": 2
}

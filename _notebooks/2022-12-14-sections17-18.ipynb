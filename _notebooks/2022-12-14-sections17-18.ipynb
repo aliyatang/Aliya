{
 "cells": [
  {
   "attachments": {},
   "cell_type": "markdown",
   "metadata": {},
   "source": [
    "# Sections 17-18\n",
    "- toc: true\n",
    "- comments: true\n",
    "- categories: [Week-16, Big-Idea-3]"
   ]
  },
  {
   "attachments": {},
   "cell_type": "markdown",
   "metadata": {},
   "source": [
    "# 3.17 Algorithmic Efficiency"
   ]
  },
  {
   "attachments": {},
   "cell_type": "markdown",
   "metadata": {},
   "source": [
    "## Vocabulary\n",
    "- Problem: a general description of a task that can or cannot be solved algorithmically\n",
    "    - Decision Problem: A problem with a yes or no answer\n",
    "    - Organization Problem: a problem with a goal of finding the best answer\n",
    "- Instance: a problem with a specific input\n",
    "- Efficiency: amount of computing needed to solve a problem\n",
    "    - Polynomial Efficiency (Good): more work takes a proportional amount of time (1 job is +2 time)\n",
    "    - Exponential Efficiency (Bad): more work takes an exponential amount more time (1 job is 2x time)\n",
    "- Heuristic Approach: When optimal solutions are inefficient, look for a possibly optimal solution that is more efficient\n",
    "- Decidable Problem: A decision problem that has a clear solution that will always make a correct output\n",
    "- Undecidable Problem: A decision problem with no solution that is not gaurenteed to produce the correct output\n"
   ]
  },
  {
   "attachments": {},
   "cell_type": "markdown",
   "metadata": {},
   "source": [
    "## Notes\n",
    "- Different code that all completes the same task can have different amounts of times to run\n",
    "- This amount of run time shows varyihg levles of polynomical efficiency\n",
    "- Sometimes requirements that have to be met are very complex, and ideally it would be good to meet all of those requirements perfectly \n",
    "- However, it may be hard or take too long to meet those perfectly, a Heuristic approach is when we sacrifice optimal solutions to improve efficiency and easy of programming, by using solutions that are \"good enough\" to have a satisfactory outcome"
   ]
  },
  {
   "attachments": {},
   "cell_type": "markdown",
   "metadata": {},
   "source": [
    "## Challenge\n",
    "Try and fix this ineficcient code!\n",
    "Only change the code between the two commented lines.\n",
    "Fully programmed solution will improve your grade, at a minimum show that you tried."
   ]
  },
  {
   "cell_type": "code",
   "execution_count": 1,
   "metadata": {},
   "outputs": [
    {
     "name": "stdout",
     "output_type": "stream",
     "text": [
      "0.5004549026489258 seconds\n"
     ]
    }
   ],
   "source": [
    "import time\n",
    "numlist = [1,3,5,7,9,11,13,15,17,19]\n",
    "valuelist = [0,3,6,9,12,15,18,21]\n",
    "def isvalue(value,array):\n",
    "    exists = False\n",
    "    while exists == False:\n",
    "        for i in range(len(array)):\n",
    "            if value == array[i]:\n",
    "                exists = True\n",
    "            else:\n",
    "                return exists\n",
    "    return exists \n",
    "\n",
    "starttime = time.time()\n",
    "for i in range(100000):\n",
    "    for i in range(len(valuelist)):\n",
    "        x = isvalue(valuelist[i],numlist)\n",
    "endtime = time.time()\n",
    "print(endtime-starttime,'seconds') "
   ]
  },
  {
   "cell_type": "markdown",
   "metadata": {},
   "source": [
    "- Decreased to ~ 0.5 seconds\n",
    "- I found that using an else statement instead of elif in line 11 dramatically cut down the time. \n",
    "- This is because with the previous elif statement, it actually had to check if the statement requirements were met. This takes time. \n",
    "- On the other hand, with the else statement, it doesn't need to check for anything further than the inital if statement, which takes a lot less time."
   ]
  },
  {
   "cell_type": "code",
   "execution_count": 18,
   "metadata": {},
   "outputs": [
    {
     "name": "stdout",
     "output_type": "stream",
     "text": [
      "0.39867186546325684 seconds\n"
     ]
    }
   ],
   "source": [
    "import time\n",
    "numlist = [1,3,5,7,9,11,13,15,17,19]\n",
    "valuelist = [0,3,6,9,12,15,18,21]\n",
    "def isvalue(value,array):\n",
    "    upper = (len(array)-1)\n",
    "    lower = 0\n",
    "    while upper > lower:\n",
    "        middle = (lower+upper)//2\n",
    "        if middle == value:\n",
    "            return True\n",
    "        elif middle > value:\n",
    "            upper = middle - 1\n",
    "        else:\n",
    "            lower = middle + 1\n",
    "    return False\n",
    "\n",
    "starttime = time.time()\n",
    "for i in range(100000):\n",
    "    for i in range(len(valuelist)):\n",
    "        x = isvalue(valuelist[i],numlist)\n",
    "endtime = time.time()\n",
    "print(endtime-starttime,'seconds') "
   ]
  },
  {
   "cell_type": "markdown",
   "metadata": {},
   "source": [
    "- Decreased to ~ 0.4 seconds\n",
    "- This is the binary search method that we were suggested to implement in class"
   ]
  },
  {
   "attachments": {},
   "cell_type": "markdown",
   "metadata": {},
   "source": [
    "# 3.18 Undecidable Problems"
   ]
  },
  {
   "attachments": {},
   "cell_type": "markdown",
   "metadata": {},
   "source": [
    "## Notes\n",
    "- Decidable problems always have an answer such as True and False\n",
    "- Undecidable problems have multiple answers, no answer, can't get to the answer in time, etc\n",
    "- There are problems that computers can't solve\n",
    "- Contradicotry statments within the code can cause it to not work correctly"
   ]
  },
  {
   "attachments": {},
   "cell_type": "markdown",
   "metadata": {},
   "source": [
    "# Homework!\n",
    "\n",
    "Make an algorithm that finds the fastest route that hits every location once starting and ending at Del Norte. Make sure to show your thinking. If you are strugling, try using a huristic approach. Remember, what matters more than having perfectly functioning code is that you tried your hardest."
   ]
  },
  {
   "cell_type": "code",
   "execution_count": 30,
   "metadata": {},
   "outputs": [],
   "source": [
    "dataset = {\n",
    "    'DelNorte':{\n",
    "        'Westview':15,\n",
    "        'MtCarmel':20,\n",
    "        'Poway':35,\n",
    "        'RanchoBernardo':50\n",
    "    },\n",
    "    'Westview':{\n",
    "        'DelNorte':15,\n",
    "        'MtCarmel':35,\n",
    "        'Poway':25,\n",
    "        'RanchoBernardo': 45\n",
    "    },\n",
    "    'MtCarmel':{\n",
    "        'Westview':35,\n",
    "        'DelNorte':20,\n",
    "        'Poway':40,\n",
    "        'RanchoBernardo':30\n",
    "    },\n",
    "    'Poway':{\n",
    "        'Westview':25,\n",
    "        'MtCarmel':40,\n",
    "        'DelNorte':35,\n",
    "        'RanchoBernardo':15\n",
    "    },\n",
    "    'RanchoBernardo':{\n",
    "        'Westview':45,\n",
    "        'MtCarmel':30,\n",
    "        'Poway':15,\n",
    "        'DelNorte':50\n",
    "    }\n",
    "}"
   ]
  },
  {
   "cell_type": "markdown",
   "metadata": {},
   "source": [
    "My thought process for this was to make a route based on the shortest time of each location. So for example at each stop, you would see which would be the next closest and go to there. "
   ]
  },
  {
   "cell_type": "code",
   "execution_count": 51,
   "metadata": {},
   "outputs": [
    {
     "name": "stdout",
     "output_type": "stream",
     "text": [
      "['DelNorte', 'Westview', 'Poway', 'RanchoBernardo', 'MtCarmel', 'DelNorte']\n",
      "is the fastest route, and it takes 105 minutes/or other unit of time.\n"
     ]
    }
   ],
   "source": [
    "\n",
    "# start from the \"start\" school, recursively go to the next school, until all schools have been passed and reach start0\n",
    "def findBestRoute(start, schools, route, total_time):\n",
    "    global min_total_time, best_route, route_count, start0\n",
    "    for loc, time in schools[start].items():\n",
    "        if loc not in route:\n",
    "            saved_route = route.copy()    # do not use saved_route = route, that is not list copy!!\n",
    "            saved_total_time = total_time\n",
    "            route.append(loc)\n",
    "            total_time += time\n",
    "            # start from the loc, recursively go to the next school, until all schools have been passed and reach start0\n",
    "            findBestRoute(loc, schools, route, total_time)\n",
    "            # resume\n",
    "            route = saved_route\n",
    "            total_time = saved_total_time\n",
    "            if total_time >  min_total_time:  # time is already too long, no need further check\n",
    "                return\n",
    "        if len(route) == 5 and loc == start0:\n",
    "            route_count += 1\n",
    "            route.append(loc)\n",
    "            #print(route_count, route, total_time)\n",
    "            if total_time < min_total_time:\n",
    "                best_route=route.copy()\n",
    "                min_total_time=total_time\n",
    "            return\n",
    "\n",
    "min_total_time=10000\n",
    "start0 = 'DelNorte'\n",
    "route=[start0]\n",
    "best_route = []\n",
    "total_time = 0\n",
    "route_count = 0\n",
    "\n",
    "findBestRoute(start0, dataset, route, total_time)\n",
    "\n",
    "#print (\"Total checked route # is \"+str(route_count))\n",
    "print(\"Best Route:\", best_route)\n",
    "print(\"Drive Time:\", min_total_time, \"minutes\")"
   ]
  },
  {
   "attachments": {},
   "cell_type": "markdown",
   "metadata": {},
   "source": [
    "### Grading:\n",
    "|Challenge|Homework|\n",
    "|---|---|\n",
    "|.15 pts for attempt|.65 for attempt|\n",
    "|.20 pts for complete|.70 for complete|\n",
    "|.25 pts for above and beyond|.75 pts for above and beyond|\n"
   ]
  }
 ],
 "metadata": {
  "kernelspec": {
   "display_name": "Python 3.10.6 64-bit",
   "language": "python",
   "name": "python3"
  },
  "language_info": {
   "codemirror_mode": {
    "name": "ipython",
    "version": 3
   },
   "file_extension": ".py",
   "mimetype": "text/x-python",
   "name": "python",
   "nbconvert_exporter": "python",
   "pygments_lexer": "ipython3",
   "version": "3.10.6"
  },
  "orig_nbformat": 4,
  "vscode": {
   "interpreter": {
    "hash": "b0fa6594d8f4cbf19f97940f81e996739fb7646882a419484c72d19e05852a7e"
   }
  }
 },
 "nbformat": 4,
 "nbformat_minor": 2
}

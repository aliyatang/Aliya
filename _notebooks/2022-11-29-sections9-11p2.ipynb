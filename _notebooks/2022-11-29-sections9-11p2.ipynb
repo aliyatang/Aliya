{
 "cells": [
  {
   "cell_type": "markdown",
   "metadata": {},
   "source": [
    "# Sections 9-11: Searching Introduction\n",
    "> Introduction to the binary search algorithm, it's uses, advantages, and disadvantages\n",
    "\n",
    "- toc: true \n",
    "- badges: true\n",
    "- comments: [Week-14, Big-Idea-3]"
   ]
  },
  {
   "cell_type": "markdown",
   "metadata": {},
   "source": [
    "## What is searching?\n",
    "In certain computer programs and applications, one might find the need to locate and retrieve a data value and/or it's index. Searching algorithms could be done in either intervals or sequences, and certain algorithms could be more efficient than others, with benefits and drawbacks to each.\n",
    "\n"
   ]
  },
  {
   "cell_type": "markdown",
   "metadata": {},
   "source": [
    "## The Naive Approach\n",
    "The most intuitively obvious solution to the searching problem is to sequentialy check each successful value in the data structure until either a matching value is found, or the entire structure has been transversed. This thought process could be explained graphically in this example\n",
    "\n"
   ]
  },
  {
   "cell_type": "markdown",
   "metadata": {},
   "source": [
    "This algorithm could also be expressed in code, as shown below."
   ]
  },
  {
   "cell_type": "code",
   "execution_count": 4,
   "metadata": {},
   "outputs": [],
   "source": [
    "def sequentialSearch(arr, target):\n",
    "    N = len(arr)                     # Declare N as length of array\n",
    "    for i in range(N):               # Iterate over the list\n",
    "        if arr[i] == target:         # Check for match\n",
    "            return i                 # Match found, return index and end function call\n",
    "    return -1                        # Element not found"
   ]
  },
  {
   "cell_type": "markdown",
   "metadata": {},
   "source": [
    "### Sequential Search - Larger Inputs\n",
    "Although for selection sort is seemingly fast for smaller inputs, it is clear that it cannot keep up with increasing input sizes. Because sequential search checks every value of the given array, the algorithm's overall runtime increases \"linearly\" with the input size.\n",
    "\n",
    "i.e. Pretend that one check takes one second, and that we are searching for the last element in an array. If the array length is 4, it would take 4 seconds to find the last element, whereas if the array length is 86400 indices long, it would take a whole day to find the element.  \n",
    "\n",
    "Hence, although selection sort is known for its simplicity, it is unfeasible for large inputs"
   ]
  },
  {
   "cell_type": "markdown",
   "metadata": {},
   "source": [
    "Below, we have created three **sorted** lists of length 100,1000000,100000000."
   ]
  },
  {
   "cell_type": "code",
   "execution_count": 5,
   "metadata": {},
   "outputs": [],
   "source": [
    "import time\n",
    "arr1 = [i for i in range(100)]\n",
    "arr2 = [i for i in range(1000000)]\n",
    "arr3 = [i for i in range(100000000)]"
   ]
  },
  {
   "cell_type": "markdown",
   "metadata": {},
   "source": [
    "To analyze the sequential search algorithm, we will check for the worst case scenario, where runtime is maximized. This is because when measuring the efficiency of our algorithm, we want to be able to guarantee an upper limit or set amount of time for our program to finish running. To do this, we will attempt to search for the last element in the array"
   ]
  },
  {
   "cell_type": "code",
   "execution_count": 6,
   "metadata": {},
   "outputs": [
    {
     "name": "stdout",
     "output_type": "stream",
     "text": [
      "length of list:  100\n",
      "Index:  99\n",
      "Execution time: 0.05221366882324219 ms\n"
     ]
    }
   ],
   "source": [
    "## arr1\n",
    "print(\"length of list: \", len(arr1))\n",
    "s = time.time()\n",
    "print(\"Index: \", sequentialSearch(arr1,99))\n",
    "e = time.time()\n",
    "print('Execution time:', (e-s)*1000, 'ms')"
   ]
  },
  {
   "cell_type": "code",
   "execution_count": 7,
   "metadata": {},
   "outputs": [
    {
     "name": "stdout",
     "output_type": "stream",
     "text": [
      "length of list:  1000000\n",
      "Index:  999999\n",
      "Execution time: 58.33601951599121 ms\n"
     ]
    }
   ],
   "source": [
    "## arr2\n",
    "print(\"length of list: \", len(arr2))\n",
    "s = time.time()\n",
    "print(\"Index: \", sequentialSearch(arr2,999999))\n",
    "e = time.time()\n",
    "print('Execution time:', (e-s)*1000, 'ms')"
   ]
  },
  {
   "cell_type": "code",
   "execution_count": 8,
   "metadata": {},
   "outputs": [
    {
     "name": "stdout",
     "output_type": "stream",
     "text": [
      "length of list:  100000000\n",
      "Index:  99999999\n",
      "Execution time: 6256.526947021484 ms\n"
     ]
    }
   ],
   "source": [
    "## arr3\n",
    "print(\"length of list: \", len(arr3))\n",
    "s = time.time()\n",
    "print(\"Index: \", sequentialSearch(arr3,99999999))\n",
    "e = time.time()\n",
    "print('Execution time:', (e-s)*1000, 'ms')"
   ]
  },
  {
   "cell_type": "markdown",
   "metadata": {},
   "source": [
    "As you can see, as the input list grows larger and larger, the overall runtime of the program increases linearly as well, resulting in a lower scalability for the sequential search algorithm."
   ]
  },
  {
   "cell_type": "markdown",
   "metadata": {},
   "source": [
    "## Binary Search\n",
    "Binary search is an efficient way to iterate through a ***SORTED*** list to find a requested value. This is done through checking the middle value of a list and checking if the requested value is greater than or less than the middle value. You can start to see why the requested list must be sorted. If the list is not sorted, this logic is flawed, and the binary search algorithm will no longer work.\n",
    "\n",
    "Unlike the sequential search method, binary search doesn't check for each successive element until a match is found. In every iteration the algorithm is making a binary decision; if the selected element is larger or smaller than the target.\n",
    "\n",
    "How exactly does this work? Lets look at these amazing ms paint drawings:"
   ]
  },
  {
   "cell_type": "code",
   "execution_count": 9,
   "metadata": {},
   "outputs": [
    {
     "ename": "FileNotFoundError",
     "evalue": "No such file or directory: '../images/BinarySearch1.png'",
     "output_type": "error",
     "traceback": [
      "\u001b[0;31m---------------------------------------------------------------------------\u001b[0m",
      "\u001b[0;31mTypeError\u001b[0m                                 Traceback (most recent call last)",
      "File \u001b[0;32m/opt/homebrew/lib/python3.10/site-packages/IPython/core/display.py:1032\u001b[0m, in \u001b[0;36mImage._data_and_metadata\u001b[0;34m(self, always_both)\u001b[0m\n\u001b[1;32m   1031\u001b[0m \u001b[39mtry\u001b[39;00m:\n\u001b[0;32m-> 1032\u001b[0m     b64_data \u001b[39m=\u001b[39m b2a_base64(\u001b[39mself\u001b[39;49m\u001b[39m.\u001b[39;49mdata)\u001b[39m.\u001b[39mdecode(\u001b[39m'\u001b[39m\u001b[39mascii\u001b[39m\u001b[39m'\u001b[39m)\n\u001b[1;32m   1033\u001b[0m \u001b[39mexcept\u001b[39;00m \u001b[39mTypeError\u001b[39;00m \u001b[39mas\u001b[39;00m e:\n",
      "\u001b[0;31mTypeError\u001b[0m: a bytes-like object is required, not 'str'",
      "\nThe above exception was the direct cause of the following exception:\n",
      "\u001b[0;31mFileNotFoundError\u001b[0m                         Traceback (most recent call last)",
      "File \u001b[0;32m/opt/homebrew/lib/python3.10/site-packages/IPython/core/formatters.py:973\u001b[0m, in \u001b[0;36mMimeBundleFormatter.__call__\u001b[0;34m(self, obj, include, exclude)\u001b[0m\n\u001b[1;32m    970\u001b[0m     method \u001b[39m=\u001b[39m get_real_method(obj, \u001b[39mself\u001b[39m\u001b[39m.\u001b[39mprint_method)\n\u001b[1;32m    972\u001b[0m     \u001b[39mif\u001b[39;00m method \u001b[39mis\u001b[39;00m \u001b[39mnot\u001b[39;00m \u001b[39mNone\u001b[39;00m:\n\u001b[0;32m--> 973\u001b[0m         \u001b[39mreturn\u001b[39;00m method(include\u001b[39m=\u001b[39;49minclude, exclude\u001b[39m=\u001b[39;49mexclude)\n\u001b[1;32m    974\u001b[0m     \u001b[39mreturn\u001b[39;00m \u001b[39mNone\u001b[39;00m\n\u001b[1;32m    975\u001b[0m \u001b[39melse\u001b[39;00m:\n",
      "File \u001b[0;32m/opt/homebrew/lib/python3.10/site-packages/IPython/core/display.py:1022\u001b[0m, in \u001b[0;36mImage._repr_mimebundle_\u001b[0;34m(self, include, exclude)\u001b[0m\n\u001b[1;32m   1020\u001b[0m \u001b[39mif\u001b[39;00m \u001b[39mself\u001b[39m\u001b[39m.\u001b[39membed:\n\u001b[1;32m   1021\u001b[0m     mimetype \u001b[39m=\u001b[39m \u001b[39mself\u001b[39m\u001b[39m.\u001b[39m_mimetype\n\u001b[0;32m-> 1022\u001b[0m     data, metadata \u001b[39m=\u001b[39m \u001b[39mself\u001b[39;49m\u001b[39m.\u001b[39;49m_data_and_metadata(always_both\u001b[39m=\u001b[39;49m\u001b[39mTrue\u001b[39;49;00m)\n\u001b[1;32m   1023\u001b[0m     \u001b[39mif\u001b[39;00m metadata:\n\u001b[1;32m   1024\u001b[0m         metadata \u001b[39m=\u001b[39m {mimetype: metadata}\n",
      "File \u001b[0;32m/opt/homebrew/lib/python3.10/site-packages/IPython/core/display.py:1034\u001b[0m, in \u001b[0;36mImage._data_and_metadata\u001b[0;34m(self, always_both)\u001b[0m\n\u001b[1;32m   1032\u001b[0m     b64_data \u001b[39m=\u001b[39m b2a_base64(\u001b[39mself\u001b[39m\u001b[39m.\u001b[39mdata)\u001b[39m.\u001b[39mdecode(\u001b[39m'\u001b[39m\u001b[39mascii\u001b[39m\u001b[39m'\u001b[39m)\n\u001b[1;32m   1033\u001b[0m \u001b[39mexcept\u001b[39;00m \u001b[39mTypeError\u001b[39;00m \u001b[39mas\u001b[39;00m e:\n\u001b[0;32m-> 1034\u001b[0m     \u001b[39mraise\u001b[39;00m \u001b[39mFileNotFoundError\u001b[39;00m(\n\u001b[1;32m   1035\u001b[0m         \u001b[39m\"\u001b[39m\u001b[39mNo such file or directory: \u001b[39m\u001b[39m'\u001b[39m\u001b[39m%s\u001b[39;00m\u001b[39m'\u001b[39m\u001b[39m\"\u001b[39m \u001b[39m%\u001b[39m (\u001b[39mself\u001b[39m\u001b[39m.\u001b[39mdata)) \u001b[39mfrom\u001b[39;00m \u001b[39me\u001b[39;00m\n\u001b[1;32m   1036\u001b[0m md \u001b[39m=\u001b[39m {}\n\u001b[1;32m   1037\u001b[0m \u001b[39mif\u001b[39;00m \u001b[39mself\u001b[39m\u001b[39m.\u001b[39mmetadata:\n",
      "\u001b[0;31mFileNotFoundError\u001b[0m: No such file or directory: '../images/BinarySearch1.png'"
     ]
    },
    {
     "ename": "FileNotFoundError",
     "evalue": "No such file or directory: '../images/BinarySearch1.png'",
     "output_type": "error",
     "traceback": [
      "\u001b[0;31m---------------------------------------------------------------------------\u001b[0m",
      "\u001b[0;31mTypeError\u001b[0m                                 Traceback (most recent call last)",
      "File \u001b[0;32m/opt/homebrew/lib/python3.10/site-packages/IPython/core/display.py:1032\u001b[0m, in \u001b[0;36mImage._data_and_metadata\u001b[0;34m(self, always_both)\u001b[0m\n\u001b[1;32m   1031\u001b[0m \u001b[39mtry\u001b[39;00m:\n\u001b[0;32m-> 1032\u001b[0m     b64_data \u001b[39m=\u001b[39m b2a_base64(\u001b[39mself\u001b[39;49m\u001b[39m.\u001b[39;49mdata)\u001b[39m.\u001b[39mdecode(\u001b[39m'\u001b[39m\u001b[39mascii\u001b[39m\u001b[39m'\u001b[39m)\n\u001b[1;32m   1033\u001b[0m \u001b[39mexcept\u001b[39;00m \u001b[39mTypeError\u001b[39;00m \u001b[39mas\u001b[39;00m e:\n",
      "\u001b[0;31mTypeError\u001b[0m: a bytes-like object is required, not 'str'",
      "\nThe above exception was the direct cause of the following exception:\n",
      "\u001b[0;31mFileNotFoundError\u001b[0m                         Traceback (most recent call last)",
      "File \u001b[0;32m/opt/homebrew/lib/python3.10/site-packages/IPython/core/formatters.py:343\u001b[0m, in \u001b[0;36mBaseFormatter.__call__\u001b[0;34m(self, obj)\u001b[0m\n\u001b[1;32m    341\u001b[0m     method \u001b[39m=\u001b[39m get_real_method(obj, \u001b[39mself\u001b[39m\u001b[39m.\u001b[39mprint_method)\n\u001b[1;32m    342\u001b[0m     \u001b[39mif\u001b[39;00m method \u001b[39mis\u001b[39;00m \u001b[39mnot\u001b[39;00m \u001b[39mNone\u001b[39;00m:\n\u001b[0;32m--> 343\u001b[0m         \u001b[39mreturn\u001b[39;00m method()\n\u001b[1;32m    344\u001b[0m     \u001b[39mreturn\u001b[39;00m \u001b[39mNone\u001b[39;00m\n\u001b[1;32m    345\u001b[0m \u001b[39melse\u001b[39;00m:\n",
      "File \u001b[0;32m/opt/homebrew/lib/python3.10/site-packages/IPython/core/display.py:1054\u001b[0m, in \u001b[0;36mImage._repr_png_\u001b[0;34m(self)\u001b[0m\n\u001b[1;32m   1052\u001b[0m \u001b[39mdef\u001b[39;00m \u001b[39m_repr_png_\u001b[39m(\u001b[39mself\u001b[39m):\n\u001b[1;32m   1053\u001b[0m     \u001b[39mif\u001b[39;00m \u001b[39mself\u001b[39m\u001b[39m.\u001b[39membed \u001b[39mand\u001b[39;00m \u001b[39mself\u001b[39m\u001b[39m.\u001b[39mformat \u001b[39m==\u001b[39m \u001b[39mself\u001b[39m\u001b[39m.\u001b[39m_FMT_PNG:\n\u001b[0;32m-> 1054\u001b[0m         \u001b[39mreturn\u001b[39;00m \u001b[39mself\u001b[39;49m\u001b[39m.\u001b[39;49m_data_and_metadata()\n",
      "File \u001b[0;32m/opt/homebrew/lib/python3.10/site-packages/IPython/core/display.py:1034\u001b[0m, in \u001b[0;36mImage._data_and_metadata\u001b[0;34m(self, always_both)\u001b[0m\n\u001b[1;32m   1032\u001b[0m     b64_data \u001b[39m=\u001b[39m b2a_base64(\u001b[39mself\u001b[39m\u001b[39m.\u001b[39mdata)\u001b[39m.\u001b[39mdecode(\u001b[39m'\u001b[39m\u001b[39mascii\u001b[39m\u001b[39m'\u001b[39m)\n\u001b[1;32m   1033\u001b[0m \u001b[39mexcept\u001b[39;00m \u001b[39mTypeError\u001b[39;00m \u001b[39mas\u001b[39;00m e:\n\u001b[0;32m-> 1034\u001b[0m     \u001b[39mraise\u001b[39;00m \u001b[39mFileNotFoundError\u001b[39;00m(\n\u001b[1;32m   1035\u001b[0m         \u001b[39m\"\u001b[39m\u001b[39mNo such file or directory: \u001b[39m\u001b[39m'\u001b[39m\u001b[39m%s\u001b[39;00m\u001b[39m'\u001b[39m\u001b[39m\"\u001b[39m \u001b[39m%\u001b[39m (\u001b[39mself\u001b[39m\u001b[39m.\u001b[39mdata)) \u001b[39mfrom\u001b[39;00m \u001b[39me\u001b[39;00m\n\u001b[1;32m   1036\u001b[0m md \u001b[39m=\u001b[39m {}\n\u001b[1;32m   1037\u001b[0m \u001b[39mif\u001b[39;00m \u001b[39mself\u001b[39m\u001b[39m.\u001b[39mmetadata:\n",
      "\u001b[0;31mFileNotFoundError\u001b[0m: No such file or directory: '../images/BinarySearch1.png'"
     ]
    },
    {
     "data": {
      "text/plain": [
       "<IPython.core.display.Image object>"
      ]
     },
     "execution_count": 9,
     "metadata": {},
     "output_type": "execute_result"
    }
   ],
   "source": [
    "#hide_input\n",
    "display.Image(\"../images/BinarySearch1.png\")"
   ]
  },
  {
   "cell_type": "code",
   "execution_count": null,
   "metadata": {},
   "outputs": [
    {
     "data": {
      "image/png": "[encoded data removed]",
      "text/plain": [
       "<IPython.core.display.Image object>"
      ]
     },
     "execution_count": 105,
     "metadata": {},
     "output_type": "execute_result"
    }
   ],
   "source": [
    "#hide_input\n",
    "display.Image(\"../images/BinarySearch2.png\")"
   ]
  },
  {
   "cell_type": "markdown",
   "metadata": {},
   "source": [
    "*i was too lazy to make a third so ur gonna have to live with 2 :)*"
   ]
  },
  {
   "cell_type": "markdown",
   "metadata": {},
   "source": [
    "This algorithm is extremely efficient as the maximum number of cycles in binary search is equal to log base 2 of the closest, next power of two, to length of list. \n",
    "> If the array is 8 items long, the maximum possible cycles would be **3** (log base 2 of 8 is 3)\n",
    ">\n",
    "> If the array is 7 items long, the maximum possible cycles would **STILL** be **3** as the closest power of 2 to 7 is 8. \n",
    "> \n",
    "> If the array is 9 items long, the maximum possible cycles **INCREASES** to **4**, as the closest, next power of two, is 16.\n"
   ]
  },
  {
   "cell_type": "code",
   "execution_count": 10,
   "metadata": {},
   "outputs": [],
   "source": [
    "def binarySearch(array, target):            # Parameters: array is the given array and target is what we are looking for\n",
    "    low = 0                                 # the starting lower bound\n",
    "    high = len(array)-1                     # the starting upper bound\n",
    "    while high >= low:                      # we will keep running until we run out of possible subarrays...\n",
    "        mid = (high + low) // 2             #   define the middle of the list to be the item at the index of the average of the lower and upper bound\n",
    "        if array[mid] == target:            #   if item is in the middle of the list... we found what we are looking for!\n",
    "            return mid                      #       therefore, we return the index of where we found the item.\n",
    "        elif array[mid] > target:           #   if item is less than the middle of the list, this must mean that the item is on the lower half of the list\n",
    "            high = mid-1                    #       therefore, we set the upper bound of the search to be the last item of the lower half\n",
    "        else:                               #   if item is neither less than or equal to the middle of the list, this must mean that the item is on the upper half of the list\n",
    "            low = mid+1                     #       therefore, we set the lower bound of the search to be the first item of the upper half\n",
    "                                            # if nothing is returned by the time the while loop ends, that means item MUST be missing from list\n",
    "    return False                            #   therefore we tell the user that the requested item was not found\n"
   ]
  },
  {
   "cell_type": "markdown",
   "metadata": {},
   "source": [
    "Likewise, we can also take a recursive approach to this problem, note the similarities"
   ]
  },
  {
   "cell_type": "code",
   "execution_count": 11,
   "metadata": {},
   "outputs": [],
   "source": [
    "def BinarySearchRecursion(arr, target, lo, hi):\n",
    "    if lo > hi:\n",
    "        return False\n",
    "    mid = (lo+hi)//2\n",
    "    if arr[mid] == target:\n",
    "        return mid\n",
    "    elif arr[mid] > target:\n",
    "        return BinarySearchRecursion(arr, target, lo, mid-1)\n",
    "    elif arr[mid] < target:\n",
    "        return BinarySearchRecursion(arr, target, mid+1, hi)"
   ]
  },
  {
   "cell_type": "markdown",
   "metadata": {},
   "source": [
    "Now, let's compare the runtime with the same lists we tried with the sequential search algorithm."
   ]
  },
  {
   "cell_type": "code",
   "execution_count": 12,
   "metadata": {},
   "outputs": [
    {
     "name": "stdout",
     "output_type": "stream",
     "text": [
      "length of list:  100\n",
      "Index:  99\n",
      "Execution time: 0.04291534423828125 ms\n"
     ]
    }
   ],
   "source": [
    "## arr1\n",
    "print(\"length of list: \", len(arr1))\n",
    "s = time.time()\n",
    "print(\"Index: \", binarySearch(arr1,99))\n",
    "e = time.time()\n",
    "print('Execution time:', (e-s)*1000, 'ms')"
   ]
  },
  {
   "cell_type": "code",
   "execution_count": 13,
   "metadata": {},
   "outputs": [
    {
     "name": "stdout",
     "output_type": "stream",
     "text": [
      "length of list:  1000000\n",
      "Index:  999999\n",
      "Execution time: 0.2377033233642578 ms\n"
     ]
    }
   ],
   "source": [
    "## arr2\n",
    "print(\"length of list: \", len(arr2))\n",
    "s = time.time()\n",
    "print(\"Index: \", binarySearch(arr2,999999))\n",
    "e = time.time()\n",
    "print('Execution time:', (e-s)*1000, 'ms')"
   ]
  },
  {
   "cell_type": "code",
   "execution_count": 14,
   "metadata": {},
   "outputs": [
    {
     "name": "stdout",
     "output_type": "stream",
     "text": [
      "length of list:  100000000\n",
      "Index:  99999999\n",
      "Execution time: 0.209808349609375 ms\n"
     ]
    }
   ],
   "source": [
    "## arr3\n",
    "print(\"length of list: \", len(arr3))\n",
    "s = time.time()\n",
    "print(\"Index: \", binarySearch(arr3,99999999))\n",
    "e = time.time()\n",
    "print('Execution time:', (e-s)*1000, 'ms')"
   ]
  },
  {
   "cell_type": "code",
   "execution_count": 15,
   "metadata": {},
   "outputs": [
    {
     "name": "stdout",
     "output_type": "stream",
     "text": [
      "Index:  False\n"
     ]
    }
   ],
   "source": [
    "## Case: Element not found \n",
    "arr4 = [1,4,5,8,10,13,145,1938]\n",
    "print(\"Index: \", binarySearch(arr4,17))"
   ]
  },
  {
   "cell_type": "markdown",
   "metadata": {},
   "source": [
    "## Challenges and Homework\n",
    "\n",
    "You have one homework problem.\n",
    "  \n",
    "Yes just one.\n",
    "  \n",
    "Don't get excited though.\n",
    "\n",
    "**Problem:** Given a specific integer **N**, return the square root of **N** (**R**) if **N** is a perfect square, otherwise, return the square root of **N** rounded down to the nearest integer\n",
    "\n",
    "**Input:** **N** (Integer)\n",
    "\n",
    "**Output:** **R** (Integer)\n",
    "  \n",
    "**Constraints:** Do not use any built-in math operations such as `sqrt(x)` or `x**(0.5)`, Try complete the problem in logarithmic time. \n",
    "  \n",
    "**Hint 1:** Maybe you can use Binary Search to try and reduce the number of checks you have to perform?  \n",
    "  \n",
    "**Hint 2:** Is there a mathematical pattern amongst numbers and their square roots that could help you reduce the number of searches or iterations you must execute? Is there some value or rule you can set before applying binary search to narrow the range of possible values?"
   ]
  },
  {
   "cell_type": "markdown",
   "metadata": {},
   "source": [
    "Run the very last code segment below to load test cases and submission function"
   ]
  },
  {
   "cell_type": "code",
   "execution_count": 14,
   "metadata": {},
   "outputs": [
    {
     "name": "stdout",
     "output_type": "stream",
     "text": [
      "Sqrt: 7\n",
      "Sqrt: 2\n",
      "Sqrt: 2.8284270763397217\n"
     ]
    }
   ],
   "source": [
    "def findSqrt(num):\n",
    "    if num >= 1:     \n",
    "        lower_bound=0\n",
    "        upper_bound=num\n",
    "    else:\n",
    "        lower_bound=num\n",
    "        upper_bound=1\n",
    "    \n",
    "    temp=0;\n",
    "    err = 0.000001\n",
    "    while(abs(num - (temp * temp)) > err):\n",
    "        temp = (lower_bound+upper_bound)/2\n",
    "        temp0 = round(temp)\n",
    "        if temp0*temp0 == num:\n",
    "            return temp0\n",
    "        \n",
    "        if temp*temp >= num:\n",
    "           upper_bound = temp\n",
    "        elif temp*temp < num:\n",
    "           lower_bound = temp\n",
    "    return int(temp) # Rounding down to nearest int\n",
    "\n",
    "print(\"Sqrt: \" + str(findSqrt(49)))\n",
    "print(\"Sqrt: \" + str(findSqrt(8)))\n",
    "\n",
    "# Extra for exact value, not rounded\n",
    "def exactSqrt(num):\n",
    "    if num >= 1:     \n",
    "        lower_bound=0\n",
    "        upper_bound=num\n",
    "    else:\n",
    "        lower_bound=num\n",
    "        upper_bound=1\n",
    "    \n",
    "    temp=0;\n",
    "    err = 0.000001\n",
    "    while(abs(num - (temp * temp)) > err):\n",
    "        temp = (lower_bound+upper_bound)/2\n",
    "        temp0 = round(temp)\n",
    "        if temp0*temp0 == num:\n",
    "            return temp0\n",
    "        \n",
    "        if temp*temp >= num:\n",
    "           upper_bound = temp\n",
    "        elif temp*temp < num:\n",
    "           lower_bound = temp\n",
    "    return temp\n",
    "\n",
    "print(\"Sqrt: \" + str(exactSqrt(8)))"
   ]
  },
  {
   "cell_type": "code",
   "execution_count": 18,
   "metadata": {},
   "outputs": [
    {
     "name": "stdout",
     "output_type": "stream",
     "text": [
      "Check number 1 passed\n",
      "Check number 2 passed\n",
      "Check number 3 passed\n",
      "Check number 4 passed\n",
      "Check number 5 passed\n",
      "Check number 6 passed\n",
      "Check number 7 passed\n",
      "Check number 8 passed\n",
      "Check number 9 passed\n",
      "Check number 10 passed\n",
      "Check number 11 passed\n",
      "Check number 12 passed\n",
      "Check number 13 passed\n"
     ]
    }
   ],
   "source": [
    "from math import sqrt as sq\n",
    "test_cases = [0,1,4,85248289,22297284,18939904,91107025,69122596,9721924,37810201,1893294144,8722812816,644398225]\n",
    "answers = [int(sq(x)) for x in test_cases]\n",
    "\n",
    "def checkValid():\n",
    "    for i in range(len(test_cases)):\n",
    "        if findSqrt(test_cases[i]) == answers[i] and exactSqrt(test_cases[i]) == answers[i]:\n",
    "            print(\"Check number {} passed\".format(i+1))\n",
    "        else:\n",
    "            print(\"Check number {} failed\".format(i+1))\n",
    "\n",
    "checkValid()"
   ]
  }
 ],
 "metadata": {
  "kernelspec": {
   "display_name": "Python 3.10.6 64-bit",
   "language": "python",
   "name": "python3"
  },
  "language_info": {
   "codemirror_mode": {
    "name": "ipython",
    "version": 3
   },
   "file_extension": ".py",
   "mimetype": "text/x-python",
   "name": "python",
   "nbconvert_exporter": "python",
   "pygments_lexer": "ipython3",
   "version": "3.10.6"
  },
  "orig_nbformat": 4,
  "vscode": {
   "interpreter": {
    "hash": "b0fa6594d8f4cbf19f97940f81e996739fb7646882a419484c72d19e05852a7e"
   }
  }
 },
 "nbformat": 4,
 "nbformat_minor": 2
}

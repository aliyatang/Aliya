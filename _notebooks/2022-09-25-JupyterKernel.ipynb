{
 "cells": [
  {
   "cell_type": "markdown",
   "metadata": {},
   "source": [
    "# Jupyter JavaScript Kernel\n",
    "> JavaScript Basic Commands\n",
    "- categories: [jupyter, week5]"
   ]
  },
  {
   "cell_type": "code",
   "execution_count": 5,
   "metadata": {},
   "outputs": [
    {
     "name": "stdout",
     "output_type": "stream",
     "text": [
      "Hello there!\n",
      "{ name: 'Aliya Tang', age: 15 }\n",
      "[ 'Red', 'Orange', 'Yellow' ]\n"
     ]
    }
   ],
   "source": [
    "// console.log() - takes message and prints to console\n",
    "console.log(\"Hello there!\");\n",
    "console.log({\n",
    "    name: \"Aliya Tang\",\n",
    "    age: 15,\n",
    "  });\n",
    "  console.log([\"Red\", \"Orange\", \"Yellow\"]);"
   ]
  },
  {
   "cell_type": "code",
   "execution_count": 6,
   "metadata": {},
   "outputs": [
    {
     "name": "stdout",
     "output_type": "stream",
     "text": [
      "Aliya's favorite color is blue.\n"
     ]
    }
   ],
   "source": [
    "// var - create and assign variables\n",
    "var favcolor = \"blue\"\n",
    "console.log(\"Aliya's favorite color is \" + favcolor + \".\")"
   ]
  },
  {
   "cell_type": "code",
   "execution_count": 16,
   "metadata": {},
   "outputs": [
    {
     "data": {
      "text/plain": [
       "'Hello Aliya, how are you?'"
      ]
     },
     "execution_count": 16,
     "metadata": {},
     "output_type": "execute_result"
    }
   ],
   "source": [
    "// function - creates a function\n",
    "function greet(name) {\n",
    "    return(\"Hello \" + name + \", how are you?\")\n",
    "}\n",
    "greet(\"Aliya\")"
   ]
  },
  {
   "cell_type": "markdown",
   "metadata": {},
   "source": [
    "Math in JavaScript!"
   ]
  },
  {
   "cell_type": "code",
   "execution_count": 8,
   "metadata": {},
   "outputs": [
    {
     "data": {
      "text/plain": [
       "12"
      ]
     },
     "execution_count": 8,
     "metadata": {},
     "output_type": "execute_result"
    }
   ],
   "source": [
    "// + addition\n",
    "var x = 5, y = 7;\n",
    "var sum; \n",
    "sum = x + y; //12"
   ]
  },
  {
   "cell_type": "code",
   "execution_count": 10,
   "metadata": {},
   "outputs": [
    {
     "data": {
      "text/plain": [
       "2"
      ]
     },
     "execution_count": 10,
     "metadata": {},
     "output_type": "execute_result"
    }
   ],
   "source": [
    "// - subtraction\n",
    "var x = 5, y = 7;\n",
    "var diff1, diff2;\n",
    "diff1 = x - y; //-2\n",
    "diff2 = y - x; //2"
   ]
  },
  {
   "cell_type": "code",
   "execution_count": 11,
   "metadata": {},
   "outputs": [
    {
     "data": {
      "text/plain": [
       "32"
      ]
     },
     "execution_count": 11,
     "metadata": {},
     "output_type": "execute_result"
    }
   ],
   "source": [
    "// * multiplicatoin\n",
    "var x = 8, y = 4;\n",
    "var product; \n",
    "product = x * y; //32"
   ]
  },
  {
   "cell_type": "code",
   "execution_count": 13,
   "metadata": {},
   "outputs": [
    {
     "data": {
      "text/plain": [
       "7.2"
      ]
     },
     "execution_count": 13,
     "metadata": {},
     "output_type": "execute_result"
    }
   ],
   "source": [
    "// / division\n",
    "var x = 36, y = 9, z = 5; \n",
    "var div1, div2; \n",
    "div1 = x / y; //4\n",
    "div2 = x / z; //7.2"
   ]
  },
  {
   "cell_type": "code",
   "execution_count": 14,
   "metadata": {},
   "outputs": [
    {
     "data": {
      "text/plain": [
       "0"
      ]
     },
     "execution_count": 14,
     "metadata": {},
     "output_type": "execute_result"
    }
   ],
   "source": [
    "// % modulus (remainder)\n",
    "var x = 24, y = 5, z = 6;\n",
    "var mod1, mod2;\n",
    "mod1 = x % y; //4\n",
    "mod2 = x % z //0"
   ]
  }
 ],
 "metadata": {
  "kernelspec": {
   "display_name": "JavaScript (Node.js)",
   "language": "javascript",
   "name": "javascript"
  },
  "language_info": {
   "file_extension": ".js",
   "mimetype": "application/javascript",
   "name": "javascript",
   "version": "10.13.0"
  },
  "orig_nbformat": 4,
  "vscode": {
   "interpreter": {
    "hash": "b0fa6594d8f4cbf19f97940f81e996739fb7646882a419484c72d19e05852a7e"
   }
  }
 },
 "nbformat": 4,
 "nbformat_minor": 2
}

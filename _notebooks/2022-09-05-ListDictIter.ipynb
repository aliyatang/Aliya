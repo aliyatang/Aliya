{
 "cells": [
  {
   "cell_type": "markdown",
   "metadata": {},
   "source": [
    "# Lists, Dictioinaries, Iteration\n",
    "> An introduction to python lists and dictionaries!"
   ]
  },
  {
   "cell_type": "markdown",
   "metadata": {},
   "source": [
    "Lists and dictionaries are used to collect information. Mostly, when information is collected it is formed into patterns. As that pattern is established you will be able collect many instances of that pattern. \n",
    "\n"
   ]
  },
  {
   "cell_type": "markdown",
   "metadata": {},
   "source": [
    "A 'list' data type has the method '.append(expression)' that allows you to add to the list. At the end, you see a fairly complicated data structure. This is a list of dictionaries, or a collection of many similar data patterns. \n",
    "\n",
    "In the code below, information about two different pets are being added into the dictionary using the append method.  "
   ]
  },
  {
   "cell_type": "code",
   "execution_count": 18,
   "metadata": {},
   "outputs": [
    {
     "name": "stdout",
     "output_type": "stream",
     "text": [
      "[{'Species': 'Cat', 'Name': 'Apollo', 'Nickname': 'Bingus', 'Age': '2 years', 'Owner': 'Aliya', 'Fur_Color': ['Orange'], 'Eye_Color': 'Green', 'Fav_Toy': ['Shoe', 'Laser Pointer', 'Plastic Wrap', 'Box']}, {'Species': 'Cat', 'Name': 'Luca', 'Nickname': 'Mart', 'Age': '2 years', 'Owner': 'Alice', 'Fur_Color': ['Orange', 'White'], 'Eye_Color': 'Yellow', 'Fav_Toy': ['Mouse Plush', 'Box', 'String']}]\n"
     ]
    }
   ],
   "source": [
    "InfoDb = []\n",
    "\n",
    "# InfoDB is a data structure with expected Keys and Values, in this case \n",
    "\n",
    "# Append to List a Dictionary of key/values related to pets\n",
    "InfoDb.append({\n",
    "    \"Species\": \"Cat\",\n",
    "    \"Name\": \"Apollo\",\n",
    "    \"Nickname\": \"Bingus\",\n",
    "    \"Age\": \"2 years\",\n",
    "    \"Owner\": \"Aliya\",\n",
    "    \"Fur_Color\": [\"Orange\"],\n",
    "    \"Eye_Color\": \"Green\",\n",
    "    \"Fav_Toy\": [\"Shoe\", \"Laser Pointer\", \"Plastic Wrap\",\"Box\"]\n",
    "})\n",
    "\n",
    "# Append to List a 2nd Dictionary of key/values\n",
    "InfoDb.append({\n",
    "    \"Species\": \"Cat\",\n",
    "    \"Name\": \"Luca\",\n",
    "    \"Nickname\": \"Mart\",\n",
    "    \"Age\": \"2 years\",\n",
    "    \"Owner\": \"Alice\",\n",
    "    \"Fur_Color\": [\"Orange\",\"White\"],\n",
    "    \"Eye_Color\": \"Yellow\",\n",
    "    \"Fav_Toy\": [\"Mouse Plush\",\"Box\",\"String\"]\n",
    "})\n",
    "\n",
    "# Print the data structure\n",
    "print(InfoDb)"
   ]
  },
  {
   "cell_type": "markdown",
   "metadata": {},
   "source": [
    "## For Loop\n",
    "\n",
    "In the code below, we take the stored data about the pets and output/print it in the notebook. First we prepare a function to format the data, then a function to iterate through the InfoDb list, and lastly activate the function with the call to the defined function. "
   ]
  },
  {
   "cell_type": "code",
   "execution_count": 19,
   "metadata": {},
   "outputs": [
    {
     "name": "stdout",
     "output_type": "stream",
     "text": [
      "For loop output\n",
      "\n",
      "Apollo the Cat\n",
      "\t Owner: Aliya\n",
      "\t Nickname: Bingus\n",
      "\t Age: 2 years\n",
      "\t Traits: Orange fur with Green eyes\n",
      "\t Favorite Toy(s): Shoe, Laser Pointer, Plastic Wrap, Box\n",
      "\n",
      "Luca the Cat\n",
      "\t Owner: Alice\n",
      "\t Nickname: Mart\n",
      "\t Age: 2 years\n",
      "\t Traits: Orange + White fur with Yellow eyes\n",
      "\t Favorite Toy(s): Mouse Plush, Box, String\n",
      "\n"
     ]
    }
   ],
   "source": [
    "# print function: given a dictionary of InfoDb content\n",
    "def print_data(d_rec):\n",
    "    print(d_rec[\"Name\"], \"the\", d_rec[\"Species\"])  # using comma puts space between values\n",
    "    print(\"\\t\", \"Owner:\", d_rec[\"Owner\"]) #\\t is tab\n",
    "    print(\"\\t\", \"Nickname:\", d_rec[\"Nickname\"])\n",
    "    print(\"\\t\", \"Age:\", d_rec[\"Age\"])\n",
    "    print(\"\\t\",\"Traits: \", end=\"\")\n",
    "    print(\" + \".join(d_rec[\"Fur_Color\"]), \"fur with\", d_rec[\"Eye_Color\"], \"eyes\") #putting multiple values in one section (traits)\n",
    "    print(\"\\t\", \"Favorite Toy(s): \", end=\"\") #the end makes sure it doesn't enter to a new line\n",
    "    print(\", \".join(d_rec[\"Fav_Toy\"]))\n",
    "    print()\n",
    "\n",
    "\n",
    "# for loop algorithm iterates on length of InfoDb\n",
    "def for_loop():\n",
    "    print(\"For loop output\\n\")\n",
    "    for record in InfoDb:\n",
    "        print_data(record)\n",
    "\n",
    "for_loop()"
   ]
  },
  {
   "cell_type": "markdown",
   "metadata": {},
   "source": [
    "## Alternate methods for iteration\n",
    "\n",
    "In coding, there are usually many wasy to achieve the same result. Defined are functions illustratng using index to reference records in a list, these methods are called a \"while\" loop and \"recursion\". "
   ]
  },
  {
   "cell_type": "markdown",
   "metadata": {},
   "source": [
    "### While Loop\n",
    "\n",
    "The while_loop() function contains a while loop, \"while i < len(InfoDb):\". This counts through the elements in the list start at zero, and passes the record to print_data()\n",
    "\n",
    "In the code below, the while loop outputs the information about the pets. The program doesn't end as long as the variable number (i) is less than the length of the InfoDb list."
   ]
  },
  {
   "cell_type": "code",
   "execution_count": 20,
   "metadata": {},
   "outputs": [
    {
     "name": "stdout",
     "output_type": "stream",
     "text": [
      "While loop output\n",
      "\n",
      "Apollo the Cat\n",
      "\t Owner: Aliya\n",
      "\t Nickname: Bingus\n",
      "\t Age: 2 years\n",
      "\t Traits: Orange fur with Green eyes\n",
      "\t Favorite Toy(s): Shoe, Laser Pointer, Plastic Wrap, Box\n",
      "\n",
      "Luca the Cat\n",
      "\t Owner: Alice\n",
      "\t Nickname: Mart\n",
      "\t Age: 2 years\n",
      "\t Traits: Orange + White fur with Yellow eyes\n",
      "\t Favorite Toy(s): Mouse Plush, Box, String\n",
      "\n"
     ]
    }
   ],
   "source": [
    "def while_loop():\n",
    "    print(\"While loop output\\n\")\n",
    "    i = 0\n",
    "    while i < len(InfoDb):\n",
    "        record = InfoDb[i]\n",
    "        print_data(record)\n",
    "        i += 1\n",
    "    return\n",
    "\n",
    "while_loop()\n"
   ]
  },
  {
   "cell_type": "markdown",
   "metadata": {},
   "source": [
    "### Recursion\n",
    "\n",
    "The code below prints information about the pets with recursion by calling itself repeatedly. The progam ends once the i value exceeds the length of the InfoDb length, just like the while loop. \n",
    "\n"
   ]
  },
  {
   "cell_type": "code",
   "execution_count": 21,
   "metadata": {},
   "outputs": [
    {
     "name": "stdout",
     "output_type": "stream",
     "text": [
      "Recursive loop output\n",
      "\n",
      "Apollo the Cat\n",
      "\t Owner: Aliya\n",
      "\t Nickname: Bingus\n",
      "\t Age: 2 years\n",
      "\t Traits: Orange fur with Green eyes\n",
      "\t Favorite Toy(s): Shoe, Laser Pointer, Plastic Wrap, Box\n",
      "\n",
      "Luca the Cat\n",
      "\t Owner: Alice\n",
      "\t Nickname: Mart\n",
      "\t Age: 2 years\n",
      "\t Traits: Orange + White fur with Yellow eyes\n",
      "\t Favorite Toy(s): Mouse Plush, Box, String\n",
      "\n"
     ]
    }
   ],
   "source": [
    "def recursive_loop(i):\n",
    "    if i < len(InfoDb):\n",
    "        record = InfoDb[i]\n",
    "        print_data(record)\n",
    "        recursive_loop(i + 1)\n",
    "    return\n",
    "    \n",
    "print(\"Recursive loop output\\n\")\n",
    "recursive_loop(0)"
   ]
  },
  {
   "cell_type": "markdown",
   "metadata": {},
   "source": [
    "## Quiz\n",
    "\n",
    "This is a quiz about the capitals of different countries that stores information in a list of dictionaries. "
   ]
  },
  {
   "cell_type": "code",
   "execution_count": 1,
   "metadata": {},
   "outputs": [
    {
     "name": "stdout",
     "output_type": "stream",
     "text": [
      "What is the capital of China?:\n",
      "beijing is correct! Nice job.\n",
      "What is the capital of United States?:\n",
      "washington dc is correct! Nice job.\n",
      "What is the capital of Canada?:\n",
      "Ottowa is correct! Nice job.\n",
      "What is the capital of Russia?:\n",
      "Moscow is correct! Nice job.\n",
      "What is the capital of Japan?:\n",
      "hi is incorrect. Oops!\n",
      "Nice try, you got 4/5 correct.\n"
     ]
    }
   ],
   "source": [
    "QuizDb = {\"China\":\"beijing\", \n",
    "        \"United States\":\"washington dc\", \n",
    "        \"Canada\":\"ottowa\", \n",
    "        \"Russia\":\"moscow\", \n",
    "        \"Japan\":\"tokyo\"}\n",
    "\n",
    "correct = 0\n",
    "\n",
    "def q_and_a(q):\n",
    "    print(\"What is the capital of \" + q + \"?:\", flush=True)\n",
    "    user_input = input().strip()\n",
    "    if QuizDb[q] == user_input.lower(): #converts what user typed into lowercase to prevent mistakes\n",
    "        print(user_input + \" is correct! Nice job.\", flush=True)\n",
    "        return 1\n",
    "    else:\n",
    "        print(user_input + \" is incorrect. Oops!\", flush=True)\n",
    "        return 0\n",
    "\n",
    "correct += q_and_a(\"China\")\n",
    "correct += q_and_a(\"United States\")\n",
    "correct += q_and_a(\"Canada\")\n",
    "correct += q_and_a(\"Russia\")\n",
    "correct += q_and_a(\"Japan\")\n",
    "\n",
    "print(\"Nice try, you got \" + str(correct) + \"/5 correct.\")"
   ]
  }
 ],
 "metadata": {
  "kernelspec": {
   "display_name": "Python 3.10.6 64-bit",
   "language": "python",
   "name": "python3"
  },
  "language_info": {
   "codemirror_mode": {
    "name": "ipython",
    "version": 3
   },
   "file_extension": ".py",
   "mimetype": "text/x-python",
   "name": "python",
   "nbconvert_exporter": "python",
   "pygments_lexer": "ipython3",
   "version": "3.10.6"
  },
  "orig_nbformat": 4,
  "vscode": {
   "interpreter": {
    "hash": "b0fa6594d8f4cbf19f97940f81e996739fb7646882a419484c72d19e05852a7e"
   }
  }
 },
 "nbformat": 4,
 "nbformat_minor": 2
}

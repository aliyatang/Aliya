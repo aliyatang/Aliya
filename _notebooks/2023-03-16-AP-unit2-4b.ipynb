{
 "cells": [
  {
   "attachments": {},
   "cell_type": "markdown",
   "metadata": {},
   "source": [
    "#  Unit 2.4b Using Programs with Data, SQL\n",
    "> Using Programs with Data is focused on SQL and database actions.  Part B focuses on learning SQL commands, connections, and curses using an Imperative programming style,\n",
    "- toc: true\n",
    "- categories: [Week 26]\n",
    "- type: ap"
   ]
  },
  {
   "attachments": {},
   "cell_type": "markdown",
   "metadata": {},
   "source": [
    "# Database Programming is Program with Data\n",
    "> Each Tri 2 Final Project should be an example of a Program with Data. \n",
    "\n",
    ">  Prepare to use SQLite in common Imperative Technique\n",
    "- Explore [SQLite Connect object](https://www.tutorialspoint.com/python_data_access/python_sqlite_establishing_connection.htm) to establish database connection\n",
    "- Explore [SQLite Cursor Object](https://www.tutorialspoint.com/python_data_access/python_sqlite_cursor_object.htm) to fetch data from a table within a database\n"
   ]
  },
  {
   "attachments": {},
   "cell_type": "markdown",
   "metadata": {},
   "source": [
    "## Schema of Users table in Sqlite.db\n",
    "> Uses PRAGMA statement to read schema.\n",
    "\n",
    "Describe Schema, here is resource [Resource](https://www.sqlite.org/index.html)\n",
    "- What is a database schema?\n",
    "A database schema is a column in a database that is organized by a certain piece of information\n",
    "\n",
    "- What is the purpose of identity Column in SQL database?\n",
    "The identity Column is used to diffrentiate data, meaning that each piece of data will be different. In our database the identity column is the id column. Since all the ids are different, each user will be differentiated. Things like names don't make good idenitty columns, because there is a possibility that there will be duplicate names, and if there are duplicates then not everything can be differentiated.\n",
    "\n",
    "- What is the purpose of a primary key in SQL database?\n",
    "Purpose of primary key is so that certain pieces of information in a database can be easily accessed. Primary key shouldn't be changed for a piece of data and remains constant so we can always indentify something, easily access it.\n",
    "\n",
    "- What are the Data Types in SQL table?\n",
    "Integer, string, boolean, images, etc. Any data type or structures (lists, dictionary, class) even. A table can fit any data type. "
   ]
  },
  {
   "cell_type": "code",
   "execution_count": 38,
   "metadata": {},
   "outputs": [
    {
     "name": "stdout",
     "output_type": "stream",
     "text": [
      "(0, 'id', 'INTEGER', 1, None, 1)\n",
      "(1, '_name', 'VARCHAR(255)', 1, None, 0)\n",
      "(2, '_uid', 'VARCHAR(255)', 1, None, 0)\n",
      "(3, '_password', 'VARCHAR(255)', 1, None, 0)\n",
      "(4, '_dob', 'DATE', 0, None, 0)\n"
     ]
    }
   ],
   "source": [
    "import sqlite3\n",
    "\n",
    "database = 'instance/sqlite.db' # this is location of database\n",
    "\n",
    "def schema():\n",
    "    \n",
    "    # Connect to the database file\n",
    "    conn = sqlite3.connect(database)\n",
    "\n",
    "    # Create a cursor object to execute SQL queries\n",
    "    cursor = conn.cursor()\n",
    "    \n",
    "    # Fetch results of Schema\n",
    "    results = cursor.execute(\"PRAGMA table_info('users')\").fetchall()\n",
    "\n",
    "    # Print the results\n",
    "    for row in results:\n",
    "        print(row)\n",
    "\n",
    "    # Close the database connection\n",
    "    conn.close()\n",
    "    \n",
    "schema()\n"
   ]
  },
  {
   "attachments": {},
   "cell_type": "markdown",
   "metadata": {},
   "source": [
    "## Reading Users table in Sqlite.db\n",
    "> Uses SQL SELECT statement to read data\n",
    "\n",
    "- What is a connection object?  After you google it, what do you think it does?\n",
    "A connection object represents a connection to a database. I think it allows connection with a database so you can interact with it, for example execute commands and retrieve data from the databse. \n",
    "\n",
    "- Same for cursor object?\n",
    "Cursor object is object that provides a way to iterate over the rows a result sset returned by SQL query. I think it lets the programmer get/fetch data from a database each row, and preform oeprations on each row every time they are fetched. \n",
    "\n",
    "- Look at conn object and cursor object in VSCode debugger.  What attributes are in the object?\n",
    "The attributes in the conn object are special variables, function variables, class variables, in_transaction, isolation_level, row_factory, and total_changes. The attrubutes in the cursor object are special variables, function variables, arraysize, connection, description, lastrowid, row_factory, and rowcount.\n",
    "\n",
    "- Is \"results\" an object?  How do you know?\n",
    "\"results\" is object because it has attributes, it is set equal to cursor.execute()"
   ]
  },
  {
   "cell_type": "code",
   "execution_count": 39,
   "metadata": {},
   "outputs": [
    {
     "name": "stdout",
     "output_type": "stream",
     "text": [
      "(1, 'Thomas Edison', 'toby', 'sha256$LIuKMjDD607oFRlt$901eba33520a20ac8bcf940371a44d74bbdb2284fa6dcb14ae7737b80236bf25', '1847-02-11')\n",
      "(2, 'Nikola Tesla', 'niko', 'sha256$KYNzwWEAf7lVqFQQ$4e5c81b1a60b7e62013ee4dd02eb9cb49a1fe45e52281ce7f19d29e1b1864f61', '2023-03-15')\n",
      "(3, 'Alexander Graham Bell', 'lex', 'sha256$UDUgd24E2LFkfL3y$b240a3a132620456ef88dd3089c4e86bde19d6f2b37b8dd99e4fd9ee3a118d2e', '2023-03-15')\n",
      "(4, 'Eli Whitney', 'whit', 'sha256$hFqIefED1u6xB6n7$e4c92080da18ff3d11316014ad0583e528eb99b0c9309bb05464b93cb687dcd1', '2023-03-15')\n",
      "(5, 'Indiana Jones', 'indi', 'sha256$lwp2uxW73pC5E9rQ$0b7e739b12c88d850e0a7d8ede3186fb07a1f1d5fadc506cc4eb7557b6eb0063', '1920-10-21')\n",
      "(6, 'Marion Ravenwood', 'raven', 'sha256$b5MqJQJ1Z39ES2Wh$c5cd68bea63d0746046aa94f8e82883984823ac0eacf0040cb019544eb24bd6b', '1921-10-21')\n",
      "(7, 'Aliya', '888', 'qwert', '2006-11-08')\n"
     ]
    }
   ],
   "source": [
    "import sqlite3\n",
    "\n",
    "def read():\n",
    "    # Connect to the database file\n",
    "    conn = sqlite3.connect(database)\n",
    "\n",
    "    # Create a cursor object to execute SQL queries\n",
    "    cursor = conn.cursor()\n",
    "    \n",
    "    # Execute a SELECT statement to retrieve data from a table\n",
    "    results = cursor.execute('SELECT * FROM users').fetchall()\n",
    "\n",
    "    # Print the results\n",
    "    if len(results) == 0:\n",
    "        print(\"Table is empty\")\n",
    "    else:\n",
    "        for row in results:\n",
    "            print(row)\n",
    "\n",
    "    # Close the cursor and connection objects\n",
    "    cursor.close()\n",
    "    conn.close()\n",
    "    \n",
    "read()"
   ]
  },
  {
   "attachments": {},
   "cell_type": "markdown",
   "metadata": {},
   "source": [
    "## Create a new User in table in Sqlite.db\n",
    "> Uses SQL INSERT to add row\n",
    "-  Compare create() in both SQL lessons.  What is better or worse in the two implementations?\n",
    "For create function in 2.4a the function \n",
    "\n",
    "Comparing the create() in both SQL lessons, the create function in 2.4a uses the SQLite database to take in the data that the user inputs to create new usuers. In 2.4b, the create function uses SQLAlchemy to create new usuers. The 2.4a create function by adding SQLite database  can be used for more simple projects, as you just have to enter a few pieces of information, however the 2.4b function using SQLAlchemy would be better for longer more complex projects. \n",
    "\n",
    "-  Explain purpose of SQL INSERT.   Is this the same as User __init__?\n",
    "The purpose of SQL INSERT is to insert new rows of data into the database table. On the other hand,User __init__ initalizes a nd sets up new users and creates them. So, SQL INSERT and User __init__ are not the same, as INSERT just adds new data in a database table, while User __in it__ is used to create new user in the data system. "
   ]
  },
  {
   "cell_type": "code",
   "execution_count": 40,
   "metadata": {},
   "outputs": [
    {
     "name": "stdout",
     "output_type": "stream",
     "text": [
      "A new user record alicetang has been created\n"
     ]
    }
   ],
   "source": [
    "import sqlite3\n",
    "\n",
    "def create():\n",
    "    name = input(\"Enter your name:\")\n",
    "    uid = input(\"Enter your user id:\")\n",
    "    password = input(\"Enter your password\")\n",
    "    dob = input(\"Enter your date of birth 'YYYY-MM-DD'\")\n",
    "    \n",
    "    # Connect to the database file\n",
    "    conn = sqlite3.connect(database)\n",
    "\n",
    "    # Create a cursor object to execute SQL commands\n",
    "    cursor = conn.cursor()\n",
    "\n",
    "    try:\n",
    "        # Execute an SQL command to insert data into a table\n",
    "        cursor.execute(\"INSERT INTO users (_name, _uid, _password, _dob) VALUES (?, ?, ?, ?)\", (name, uid, password, dob))\n",
    "        \n",
    "        # Commit the changes to the database\n",
    "        conn.commit()\n",
    "        print(f\"A new user record {uid} has been created\")\n",
    "                \n",
    "    except sqlite3.Error as error:\n",
    "        print(\"Error while executing the INSERT:\", error)\n",
    "\n",
    "\n",
    "    # Close the cursor and connection objects\n",
    "    cursor.close()\n",
    "    conn.close()\n",
    "    \n",
    "create()"
   ]
  },
  {
   "attachments": {},
   "cell_type": "markdown",
   "metadata": {},
   "source": [
    "## Updating a User in table in Sqlite.db\n",
    "> Uses SQL UPDATE to modify password\n",
    "- What does the hacked part do?\n",
    "The hacked part checks if the length of the password when being updated is less than two characters, if it is then the code assumes that the user is being hacked, and if it greater than 2 then the password is successfully updated.\n",
    "\n",
    "- Explain try/except, when would except occur?\n",
    "Try/except is used in case errors occur, the try method tries to see if something works and if it doesn't and there is an error it triggers the except method. \n",
    "\n",
    "- What code seems to be repeated in each of these examples to point, why is it repeated?\n",
    "Try/except is repeated. It is important and it repeated because it makes sure in different places if there are any errors, for example if an input is not valid or incorrect, then it acts according by, for example telling the user that there is an error. "
   ]
  },
  {
   "cell_type": "code",
   "execution_count": 41,
   "metadata": {},
   "outputs": [
    {
     "name": "stdout",
     "output_type": "stream",
     "text": [
      "The row with user id alicetang the password has been successfully updated\n"
     ]
    }
   ],
   "source": [
    "import sqlite3\n",
    "\n",
    "def update():\n",
    "    uid = input(\"Enter user id to update\")\n",
    "    password = input(\"Enter updated password\")\n",
    "    if len(password) < 2:\n",
    "        message = \"hacked\"\n",
    "        password = 'gothackednewpassword123'\n",
    "    else:\n",
    "        message = \"successfully updated\"\n",
    "\n",
    "    # Connect to the database file\n",
    "    conn = sqlite3.connect(database)\n",
    "\n",
    "    # Create a cursor object to execute SQL commands\n",
    "    cursor = conn.cursor()\n",
    "\n",
    "    try:\n",
    "        # Execute an SQL command to update data in a table\n",
    "        cursor.execute(\"UPDATE users SET _password = ? WHERE _uid = ?\", (password, uid))\n",
    "        if cursor.rowcount == 0:\n",
    "            # The uid was not found in the table\n",
    "            print(f\"No uid {uid} was not found in the table\")\n",
    "        else:\n",
    "            print(f\"The row with user id {uid} the password has been {message}\")\n",
    "            conn.commit()\n",
    "    except sqlite3.Error as error:\n",
    "        print(\"Error while executing the UPDATE:\", error)\n",
    "        \n",
    "    \n",
    "    # Close the cursor and connection objects\n",
    "    cursor.close()\n",
    "    conn.close()\n",
    "    \n",
    "update()\n"
   ]
  },
  {
   "attachments": {},
   "cell_type": "markdown",
   "metadata": {},
   "source": [
    "## Delete a User in table in Sqlite.db\n",
    "> Uses a delete function to remove a user based on a user input of the id.\n",
    "- Is DELETE a dangerous operation?  Why?\n",
    "Yes because for this after deleting data there is no way of recovering it. You are at risk of accidentally deleting all your data and losing it forever!\n",
    "\n",
    "- In the print statemements, what is the \"f\" and what does {uid} do?\n",
    "You can use the f to embed expressions inside of string literals. The {uid} is the put the variable uid insdie the string for the user id that is being used in the code. This is helpful so you don't have to do the concatentating strings with so many + and \" all the time. "
   ]
  },
  {
   "cell_type": "code",
   "execution_count": 42,
   "metadata": {},
   "outputs": [
    {
     "name": "stdout",
     "output_type": "stream",
     "text": [
      "The row with uid alicetang was successfully deleted\n"
     ]
    }
   ],
   "source": [
    "import sqlite3\n",
    "\n",
    "def delete():\n",
    "    uid = input(\"Enter user id to delete\")\n",
    "\n",
    "    # Connect to the database file\n",
    "    conn = sqlite3.connect(database)\n",
    "\n",
    "    # Create a cursor object to execute SQL commands\n",
    "    cursor = conn.cursor()\n",
    "    \n",
    "    try:\n",
    "        cursor.execute(\"DELETE FROM users WHERE _uid = ?\", (uid,))\n",
    "        if cursor.rowcount == 0:\n",
    "            # The uid was not found in the table\n",
    "            print(f\"No uid {uid} was not found in the table\")\n",
    "        else:\n",
    "            # The uid was found in the table and the row was deleted\n",
    "            print(f\"The row with uid {uid} was successfully deleted\")\n",
    "        conn.commit()\n",
    "    except sqlite3.Error as error:\n",
    "        print(\"Error while executing the DELETE:\", error)\n",
    "        \n",
    "    # Close the cursor and connection objects\n",
    "    cursor.close()\n",
    "    conn.close()\n",
    "    \n",
    "delete()"
   ]
  },
  {
   "attachments": {},
   "cell_type": "markdown",
   "metadata": {},
   "source": [
    "# Menu Interface to CRUD operations\n",
    "> CRUD and Schema interactions from one location by running menu. Observe input at the top of VSCode, observe output underneath code cell.\n",
    "- Why does the menu repeat?\n",
    "It repeats because it is recursion, meaning that the function keeps calling itself over and over and repeats. \n",
    "\n",
    "- Could you refactor this menu?  Make it work with a List?\n",
    "You could refactor this by making a list with the (C)reate (R)ead (U)pdate or (D)elete or (S)chema as the values inside. For example, CRUDS = [\"C\", \"R\", \"U\", \"D\", \"S\"]"
   ]
  },
  {
   "cell_type": "code",
   "execution_count": 43,
   "metadata": {},
   "outputs": [
    {
     "name": "stdout",
     "output_type": "stream",
     "text": [
      "The row with uid 888 was successfully deleted\n"
     ]
    }
   ],
   "source": [
    "# Menu, to run other cells from one control point\n",
    "def menu():\n",
    "    operation = input(\"Enter: (C)reate (R)ead (U)pdate or (D)elete or (S)chema\")\n",
    "    if operation.lower() == 'c':\n",
    "        create()\n",
    "    elif operation.lower() == 'r':\n",
    "        read()\n",
    "    elif operation.lower() == 'u':\n",
    "        update()\n",
    "    elif operation.lower() == 'd':\n",
    "        delete()\n",
    "    elif operation.lower() == 's':\n",
    "        schema()\n",
    "    elif len(operation)==0: # Escape Key\n",
    "        return\n",
    "    else:\n",
    "        print(\"Please enter c, r, u, or d\") \n",
    "    menu() # recursion, repeat menu\n",
    "\n",
    "try:\n",
    "    menu() # start menu\n",
    "except:\n",
    "    print(\"Perform Jupyter 'Run All' prior to starting menu\")\n"
   ]
  },
  {
   "attachments": {},
   "cell_type": "markdown",
   "metadata": {},
   "source": [
    "# Hacks\n",
    "- Add this Blog to you own Blogging site.  In the Blog add notes and observations on each code cell.\n",
    "- In this implementation, do you see procedural abstraction?\n",
    "I see procedural abstraction in several places throughout. For example, the seperation of the CRUD functions into four different functions to prevent these functions to getting too long or prone to be mixed up. In each of these methods, I created new function. See my new data table for movie tracking in different notebook!\n",
    "\n",
    "- In 2.4a or 2.4b lecture\n",
    "- Do you see data abstraction?  Complement this with Debugging example.\n",
    "I saw it all throughout the 2.4a and 2.4b lectures, all the different classes and functions to seperate different things to do. A specific example, the find_by_uid(uid) function and the check_credentials(uid, password) function. These two are methods to identify user to credentials uid and password, and they are used several times throughout the code, for example find_by_uid(uid) function is used in the update and delete functions to make sure that the desired user to be updated or deleted actually exists. So, instead of having to write out the code block to go through the database to check if a uid exists, you can just call the function. The check_credentials(uid, password) function is also used in the create and update functions, and it verifies if the password inputted matches the uid. This is just a validation system to make sure that people can't randomly modify or delete other people's data. Same thing for the find_by_uid(uid), instead of having to write out the code block to go through the database to check if the password matches the uid, you can just call the function. Both of these functions are procedures that validate something based on the chaging parameters, which are uid and password. It organizes the code and makes it easier for the user to use or understand it. \n",
    "\n",
    "- Use Imperative or OOP style to Create a new Table or do something that applies to your CPT project.\n",
    "    \n",
    "\n",
    "Reference... [sqlite documentation](https://www.sqlitetutorial.net/sqlite-python/creating-tables/)\n"
   ]
  }
 ],
 "metadata": {
  "kernelspec": {
   "display_name": "base",
   "language": "python",
   "name": "python3"
  },
  "language_info": {
   "codemirror_mode": {
    "name": "ipython",
    "version": 3
   },
   "file_extension": ".py",
   "mimetype": "text/x-python",
   "name": "python",
   "nbconvert_exporter": "python",
   "pygments_lexer": "ipython3",
   "version": "3.10.9"
  },
  "orig_nbformat": 4,
  "vscode": {
   "interpreter": {
    "hash": "8b82d5009c68ba5675978267e2b13a671f2a7143d61273c5a3813c97e0b2493d"
   }
  }
 },
 "nbformat": 4,
 "nbformat_minor": 2
}

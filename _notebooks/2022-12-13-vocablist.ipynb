{
 "cells": [
  {
   "cell_type": "markdown",
   "metadata": {},
   "source": [
    "# Unit 2 and 3 Vocabulary\n",
    "> Binary, data, algorithm, and programming terms\n",
    "\n",
    "- toc: true \n",
    "- badges: true"
   ]
  },
  {
   "cell_type": "markdown",
   "metadata": {},
   "source": [
    "Unit 2… Binary/Data Terms\n",
    "---------------\n",
    "Bits, Bytes, Hexadecimal / Nibbles\n",
    "Binary Numbers: Unsigned Integer, Signed Integer, Floating Point\n",
    "Binary Data Abstractions: Boolean, ASCII, Unicode, RGB\n",
    "Data Compression: Lossy, Lossless (note discussed yet)\n",
    "\n",
    "Unit 3… Algorithm/Programming Terms\n",
    "-------------------\n",
    "Variables, Data Types, Assignment Operators\n",
    "Managing Complexity with Variables:  Lists, 2D Lists, Dictionaries, Class\n",
    "Algorithms, Sequence, Selection, Iteration\n",
    "Expressions, Comparison Operators, Booleans Expressions and Selection, Booleans Expressions and Iteration, Truth Tables\n",
    "Characters, Strings, Length, Concatenation, Upper, Lower, Traversing Strings\n",
    "Python If, Elif, Else conditionals; Nested Selection Statements\n",
    "Python For, While loops with Range, with List\n",
    "Combining loops with conditionals to Break, Continue\n",
    "Procedural Abstraction, Python Def procedures, Parameters, Return Values"
   ]
  },
  {
   "cell_type": "markdown",
   "metadata": {},
   "source": [
    "## Unit 2 - Binary/Data Terms"
   ]
  },
  {
   "cell_type": "markdown",
   "metadata": {},
   "source": [
    "- Bits: binary digits, smallest unit of data processed by a computer (1 or 0, true or false)\n",
    "- Bytes: 8-bit unit, unit of data that is eight binary digits(bits) long\n",
    "- Hexadecimal: Numbering system with base 16, digit values from 0-9 then A-F\n",
    "- Nibbles: Four binary digits(bits), half of a byte\n",
    "- Binary numbers: Numbers expressed in base 2 numeral system, digit values 0-1\n",
    "- Unsigned Integer: 32-bit encoding non negative integers, integers with no + or - sign associated with them, range of [0 to 4294967295]\n",
    "- Signed Integer: 32-bit including negative integers, range of [-2147483648 to 2147483647]\n",
    "- Floating Point: Number with decimal point \".\"\n",
    "- Binary Data Abstractions: Using binary(1 and 0, True and False) to sort through data and only preserve information that is relevant in a given context, and forgetting information that is irrelevant in that context\n",
    "- Boolean: Binary variable, two possible values true and false\n",
    "- ASCII: standard data-encoding format for electronic communication between computers, 1 byte to represent characters\n",
    "- Unicode: universal character encoding standard, roughly 100000 characters to represent characters of different languages, 4 bytes to reperesent characters\n",
    "- RGB: color model of red, green, and blue, system for representing the colors to be used on a computer display\n",
    "- Data Compression: process of encoding, restructuring or otherwise modifying data in order to reduce its size \n",
    "- Lossy: \n",
    "- Lossless: "
   ]
  },
  {
   "cell_type": "markdown",
   "metadata": {},
   "source": [
    "## Unit 3 - Algorithm/Programming Terms"
   ]
  },
  {
   "cell_type": "markdown",
   "metadata": {},
   "source": [
    "### Variables \n",
    "- a symbolic name that is a reference or pointer to an object\n",
    "- example:"
   ]
  },
  {
   "cell_type": "code",
   "execution_count": 2,
   "metadata": {},
   "outputs": [
    {
     "name": "stdout",
     "output_type": "stream",
     "text": [
      "1\n",
      "Aliya\n"
     ]
    }
   ],
   "source": [
    "# x and name are variables and they are each printed\n",
    "x = 1\n",
    "print(x)\n",
    "\n",
    "name = \"Aliya\"\n",
    "print(name)"
   ]
  },
  {
   "cell_type": "markdown",
   "metadata": {},
   "source": [
    "### Data Types\n",
    "- classifaction or categorization of data items\n",
    "- example of main data types below:"
   ]
  },
  {
   "cell_type": "code",
   "execution_count": 1,
   "metadata": {},
   "outputs": [],
   "source": [
    "# Numbers\n",
    "a = 20 # int\n",
    "b = 35.75 # float\n",
    "c = 1+3j # complex\n",
    "\n",
    "# Boolean\n",
    "d = True\n",
    "e = False\n",
    "\n",
    "# Set\n",
    "f = {2, 4, 6}\n",
    "\n",
    "# Dict\n",
    "g = {1:'a', 2:'b'}\n",
    "\n",
    "# Sequence\n",
    "h = \"Aliya\" # string\n",
    "i = [2, 'a', 5.7] # list\n",
    "j = (3, 4.5, 'b') # tuple"
   ]
  }
 ],
 "metadata": {
  "kernelspec": {
   "display_name": "Python 3.10.6 64-bit",
   "language": "python",
   "name": "python3"
  },
  "language_info": {
   "codemirror_mode": {
    "name": "ipython",
    "version": 3
   },
   "file_extension": ".py",
   "mimetype": "text/x-python",
   "name": "python",
   "nbconvert_exporter": "python",
   "pygments_lexer": "ipython3",
   "version": "3.10.6"
  },
  "orig_nbformat": 4,
  "vscode": {
   "interpreter": {
    "hash": "b0fa6594d8f4cbf19f97940f81e996739fb7646882a419484c72d19e05852a7e"
   }
  }
 },
 "nbformat": 4,
 "nbformat_minor": 2
}

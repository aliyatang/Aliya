{
 "cells": [
  {
   "cell_type": "markdown",
   "metadata": {},
   "source": [
    "# Unit 2 and 3 Vocabulary\n",
    "> Binary, data, algorithm, and programming terms\n",
    "\n",
    "- toc: true \n",
    "- badges: true"
   ]
  },
  {
   "cell_type": "markdown",
   "metadata": {},
   "source": [
    "Unit 2… Binary/Data Terms\n",
    "---------------\n",
    "Bits, Bytes, Hexadecimal / Nibbles\n",
    "Binary Numbers: Unsigned Integer, Signed Integer, Floating Point\n",
    "Binary Data Abstractions: Boolean, ASCII, Unicode, RGB\n",
    "Data Compression: Lossy, Lossless (note discussed yet)\n",
    "\n",
    "Unit 3… Algorithm/Programming Terms\n",
    "-------------------\n",
    "Variables, Data Types, Assignment Operators\n",
    "Managing Complexity with Variables:  Lists, 2D Lists, Dictionaries, Class\n",
    "Algorithms, Sequence, Selection, Iteration\n",
    "Expressions, Comparison Operators, Booleans Expressions and Selection, Booleans Expressions and Iteration, Truth Tables\n",
    "Characters, Strings, Length, Concatenation, Upper, Lower, Traversing Strings\n",
    "Python If, Elif, Else conditionals; Nested Selection Statements\n",
    "Python For, While loops with Range, with List\n",
    "Combining loops with conditionals to Break, Continue\n",
    "Procedural Abstraction, Python Def procedures, Parameters, Return Values"
   ]
  },
  {
   "cell_type": "markdown",
   "metadata": {},
   "source": [
    "## Unit 2 - Binary/Data Terms"
   ]
  },
  {
   "cell_type": "markdown",
   "metadata": {},
   "source": [
    "### Bits\n",
    "- short for \"binary digits\"\n",
    "- computers store information as bits"
   ]
  },
  {
   "cell_type": "markdown",
   "metadata": {},
   "source": [
    "### Bytes\n",
    "- 8-bit unit, unit of data that is eight binary digits long"
   ]
  },
  {
   "cell_type": "markdown",
   "metadata": {},
   "source": [
    "## Unit 3 - Algorithm/Programming Terms"
   ]
  },
  {
   "cell_type": "markdown",
   "metadata": {},
   "source": [
    "### Variables \n",
    "- a symbolic name that is a reference or pointer to an object\n",
    "- example:"
   ]
  },
  {
   "cell_type": "code",
   "execution_count": 2,
   "metadata": {},
   "outputs": [
    {
     "name": "stdout",
     "output_type": "stream",
     "text": [
      "1\n",
      "Aliya\n"
     ]
    }
   ],
   "source": [
    "# x and name are variables and they are each printed\n",
    "x = 1\n",
    "print(x)\n",
    "\n",
    "name = \"Aliya\"\n",
    "print(name)"
   ]
  }
 ],
 "metadata": {
  "kernelspec": {
   "display_name": "Python 3.10.6 64-bit",
   "language": "python",
   "name": "python3"
  },
  "language_info": {
   "codemirror_mode": {
    "name": "ipython",
    "version": 3
   },
   "file_extension": ".py",
   "mimetype": "text/x-python",
   "name": "python",
   "nbconvert_exporter": "python",
   "pygments_lexer": "ipython3",
   "version": "3.10.6"
  },
  "orig_nbformat": 4,
  "vscode": {
   "interpreter": {
    "hash": "b0fa6594d8f4cbf19f97940f81e996739fb7646882a419484c72d19e05852a7e"
   }
  }
 },
 "nbformat": 4,
 "nbformat_minor": 2
}

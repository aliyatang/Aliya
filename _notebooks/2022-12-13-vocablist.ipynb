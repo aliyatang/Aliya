{
 "cells": [
  {
   "cell_type": "markdown",
   "metadata": {},
   "source": [
    "# Unit 2 and 3 Vocabulary\n",
    "> Binary, data, algorithm, and programming terms\n",
    "\n",
    "- toc: true \n",
    "- badges: true"
   ]
  },
  {
   "cell_type": "markdown",
   "metadata": {},
   "source": [
    "## Unit 2 - Binary/Data Terms"
   ]
  },
  {
   "cell_type": "markdown",
   "metadata": {},
   "source": [
    "- Bits: binary digits, smallest unit of data processed by a computer (1 or 0, true or false)\n",
    "- Bytes: 8-bit unit, unit of data that is eight binary digits(bits) long\n",
    "- Hexadecimal: Numbering system with base 16, digit values from 0-9 then A-F\n",
    "- Nibbles: Four binary digits(bits), half of a byte\n",
    "- Binary numbers: Numbers expressed in base 2 numeral system, digit values 0-1\n",
    "- Unsigned Integer: 32-bit encoding non negative integers, integers with no + or - sign associated with them, range of [0 to 4294967295]\n",
    "- Signed Integer: 32-bit including negative integers, range of [-2147483648 to 2147483647]\n",
    "- Floating Point: Number with decimal point \".\"\n",
    "- Binary Data Abstractions: Using binary(1 and 0, True and False) to sort through data and only preserve information that is relevant in a given context, and forgetting information that is irrelevant in that context\n",
    "- Boolean: Binary variable, two possible values true and false\n",
    "- ASCII: standard data-encoding format for electronic communication between computers, 1 byte to represent characters\n",
    "- Unicode: universal character encoding standard, roughly 100000 characters to represent characters of different languages, 4 bytes to reperesent characters\n",
    "- RGB: color model of red, green, and blue, system for representing the colors to be used on a computer display\n",
    "- Data Compression: process of encoding, restructuring or otherwise modifying data in order to reduce its size \n",
    "- Lossy: data encoding and compression technique that deliberately discards some data in the compression process\n",
    "- Lossless: restores and rebuilds file data in its original form after the file is decompressed, no loss of data even after decompression"
   ]
  },
  {
   "cell_type": "markdown",
   "metadata": {},
   "source": [
    "Unit 3… Algorithm/Programming Terms\n",
    "-------------------\n",
    "Variables, Data Types, Assignment Operators\n",
    "Managing Complexity with Variables:  Lists, 2D Lists, Dictionaries, Class\n",
    "Algorithms, Sequence, Selection, Iteration\n",
    "Expressions, Comparison Operators, Booleans Expressions and Selection, Booleans Expressions and Iteration, Truth Tables\n",
    "Characters, Strings, Length, Concatenation, Upper, Lower, Traversing Strings\n",
    "Python If, Elif, Else conditionals; Nested Selection Statements\n",
    "Python For, While loops with Range, with List\n",
    "Combining loops with conditionals to Break, Continue\n",
    "Procedural Abstraction, Python Def procedures, Parameters, Return Values"
   ]
  },
  {
   "cell_type": "markdown",
   "metadata": {},
   "source": [
    "## Unit 3 - Algorithm/Programming Terms"
   ]
  },
  {
   "cell_type": "markdown",
   "metadata": {},
   "source": [
    "Variables \n",
    "- a symbolic name that is a reference or pointer to an object\n",
    "- example:"
   ]
  },
  {
   "cell_type": "code",
   "execution_count": 2,
   "metadata": {},
   "outputs": [
    {
     "name": "stdout",
     "output_type": "stream",
     "text": [
      "1\n",
      "Aliya\n"
     ]
    }
   ],
   "source": [
    "# x and name are variables and they are each printed\n",
    "x = 1\n",
    "print(x)\n",
    "\n",
    "name = \"Aliya\"\n",
    "print(name)"
   ]
  },
  {
   "cell_type": "markdown",
   "metadata": {},
   "source": [
    "Data Types\n",
    "- classifaction or categorization of data items\n",
    "- example of main data types below:"
   ]
  },
  {
   "cell_type": "code",
   "execution_count": 1,
   "metadata": {},
   "outputs": [],
   "source": [
    "# Numbers\n",
    "a = 20 # int\n",
    "b = 35.75 # float\n",
    "c = 1+3j # complex\n",
    "\n",
    "# Boolean\n",
    "d = True\n",
    "e = False\n",
    "\n",
    "# Set\n",
    "f = {2, 4, 6}\n",
    "\n",
    "# Dict\n",
    "g = {1:'a', 2:'b'}\n",
    "\n",
    "# Sequence\n",
    "h = \"Aliya\" # string\n",
    "i = [2, 'a', 5.7] # list\n",
    "j = (3, 4.5, 'b') # tuple"
   ]
  },
  {
   "cell_type": "markdown",
   "metadata": {},
   "source": [
    "Assignment Operators\n",
    "- used to perform operations on values and variables\n",
    "- special symbols that carry out arithmetic, logical, bitwise computations"
   ]
  },
  {
   "cell_type": "code",
   "execution_count": 10,
   "metadata": {},
   "outputs": [
    {
     "name": "stdout",
     "output_type": "stream",
     "text": [
      "4\n",
      "5\n",
      "9\n"
     ]
    }
   ],
   "source": [
    "a = 1+3 # assign value of right side of expression to left side operand\n",
    "print(a)\n",
    "\n",
    "b = 2\n",
    "b += 3 # (2+3) add and assign: add right side operand with left side operand and then assign to left operand\n",
    "print(b)\n",
    "\n",
    "c = 10\n",
    "c -= 1 # (10-1) subtract and: subtract right operand from left operand and then assign to left operand\n",
    "print(c)"
   ]
  },
  {
   "cell_type": "markdown",
   "metadata": {},
   "source": [
    "### Managing Complexity With Variables\n",
    "- Lists: store multiple items in a single variable\n",
    "- 2D lists: array of arrays that can be represented in matrix form, like rows and columns\n",
    "- Dictionaries: consists of a collection of key-value pairs, each key-value pair maps the key to its associated value\n",
    "- Class: code template for creating objects"
   ]
  },
  {
   "cell_type": "code",
   "execution_count": 18,
   "metadata": {},
   "outputs": [
    {
     "name": "stdout",
     "output_type": "stream",
     "text": [
      "Zero\n",
      "[4, 3, 6, 7, 5]\n",
      "[-5, -2]\n"
     ]
    }
   ],
   "source": [
    "exlist = [4,-5,-2,0,3,6,7,5] # list\n",
    "pos = []\n",
    "neg = []\n",
    "\n",
    "for i in exlist: # for loop, iteration with list\n",
    "    if int(i) > 0: # if conditional statement, comparison operator greater than\n",
    "        pos.append(i)\n",
    "    elif int(i) < 0: # elif conditional statement, comparison operator less than\n",
    "        neg.append(i)\n",
    "    else: # else conditional statement\n",
    "        if int(i) == 0: # nested conditionals - if inside elif statement, in this ex it is basically just elif statement\n",
    "            print(\"Zero\")\n",
    "\n",
    "print(pos)\n",
    "print(neg)\n"
   ]
  },
  {
   "cell_type": "code",
   "execution_count": 19,
   "metadata": {},
   "outputs": [
    {
     "name": "stdout",
     "output_type": "stream",
     "text": [
      "6 to binary:  110\n"
     ]
    }
   ],
   "source": [
    "nums = [] # list\n",
    "x = int(input(\"Enter a number between 1 and 255:\"))\n",
    "\n",
    "def convert(x): # function\n",
    "    if x >= 1 and x <= 255: # if statement, greater than or equal to and less than or equal to comparison operator\n",
    "        while x/2 != 0: # while loop\n",
    "            rem = x % 2 # mathmatical operator % which finds remainder\n",
    "            nums.append(rem)\n",
    "            x = int(x/2)\n",
    "        nums.reverse()\n",
    "        binary = \" \" # string, it is empty for now\n",
    "        for i in nums: # iteration for loop\n",
    "            binary = binary + str(i) # concatenation of strings binary and i\n",
    "        return binary # return values out of the function\n",
    "    else: # else statement for number that is not fit for the code\n",
    "        print(\"Number not within range.\")\n",
    "\n",
    "print(str(x) + \" to binary: \" + convert(x))"
   ]
  },
  {
   "cell_type": "code",
   "execution_count": 22,
   "metadata": {},
   "outputs": [
    {
     "name": "stdout",
     "output_type": "stream",
     "text": [
      "Length of jaden: 5\n",
      "Length of max: 3\n",
      "Length of dylan: 5\n",
      "Length of orlando: 7\n",
      "Your name is 5 letters long.\n",
      "Your name has 2 vowels.\n",
      "Your name has 3 consonants.\n"
     ]
    }
   ],
   "source": [
    "names = [\"jaden\",\"max\",\"dylan\",\"orlando\"]\n",
    "\n",
    "def length(names): \n",
    "    for x in names:\n",
    "        print(\"Length of \" + x + \": \" + str(len(x))) # len finds the length of or the number of items in a list\n",
    "\n",
    "length(names)\n",
    "\n",
    "your_name = input(\"What's your name?:\")\n",
    "print(\"Your name is \" + str(len(your_name)) + \" letters long.\")\n",
    "\n",
    "vowels = 0\n",
    "cons = 0\n",
    "\n",
    "for l in your_name: # for loop iterating through each of the names in the list above\n",
    "    if l == \"a\" or l == \"e\" or l == \"i\" or l == \"o\" or l ==\"u\":\n",
    "        vowels += 1\n",
    "    else:\n",
    "        cons += 1\n",
    "print(\"Your name has \" + str(vowels) + \" vowels.\")\n",
    "print(\"Your name has \" + str(cons) + \" consonants.\")"
   ]
  }
 ],
 "metadata": {
  "kernelspec": {
   "display_name": "Python 3.10.6 64-bit",
   "language": "python",
   "name": "python3"
  },
  "language_info": {
   "codemirror_mode": {
    "name": "ipython",
    "version": 3
   },
   "file_extension": ".py",
   "mimetype": "text/x-python",
   "name": "python",
   "nbconvert_exporter": "python",
   "pygments_lexer": "ipython3",
   "version": "3.10.6"
  },
  "orig_nbformat": 4,
  "vscode": {
   "interpreter": {
    "hash": "b0fa6594d8f4cbf19f97940f81e996739fb7646882a419484c72d19e05852a7e"
   }
  }
 },
 "nbformat": 4,
 "nbformat_minor": 2
}

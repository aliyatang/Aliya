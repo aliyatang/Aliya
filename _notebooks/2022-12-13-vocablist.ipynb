{
 "cells": [
  {
   "cell_type": "code",
   "execution_count": null,
   "metadata": {},
   "outputs": [],
   "source": [
    "Unit 2… Binary/Data Terms\n",
    "---------------\n",
    "Bits, Bytes, Hexadecimal / Nibbles\n",
    "Binary Numbers: Unsigned Integer, Signed Integer, Floating Point\n",
    "Binary Data Abstractions: Boolean, ASCII, Unicode, RGB\n",
    "Data Compression: Lossy, Lossless (note discussed yet)\n",
    "\n",
    "Unit 3… Algorithm/Programming Terms\n",
    "-------------------\n",
    "Variables, Data Types, Assignment Operators\n",
    "Managing Complexity with Variables:  Lists, 2D Lists, Dictionaries, Class\n",
    "Algorithms, Sequence, Selection, Iteration\n",
    "Expressions, Comparison Operators, Booleans Expressions and Selection, Booleans Expressions and Iteration, Truth Tables\n",
    "Characters, Strings, Length, Concatenation, Upper, Lower, Traversing Strings\n",
    "Python If, Elif, Else conditionals; Nested Selection Statements\n",
    "Python For, While loops with Range, with List\n",
    "Combining loops with conditionals to Break, Continue\n",
    "Procedural Abstraction, Python Def procedures, Parameters, Return Values"
   ]
  },
  {
   "cell_type": "markdown",
   "metadata": {},
   "source": [
    "Variables"
   ]
  },
  {
   "cell_type": "code",
   "execution_count": null,
   "metadata": {},
   "outputs": [],
   "source": [
    "# x, y, name are all variables\n",
    "x = 1\n",
    "y = 2\n",
    "name = \"Aliya\""
   ]
  },
  {
   "cell_type": "code",
   "execution_count": null,
   "metadata": {},
   "outputs": [],
   "source": []
  }
 ],
 "metadata": {
  "kernelspec": {
   "display_name": "Python 3.10.6 64-bit",
   "language": "python",
   "name": "python3"
  },
  "language_info": {
   "name": "python",
   "version": "3.10.6"
  },
  "orig_nbformat": 4,
  "vscode": {
   "interpreter": {
    "hash": "b0fa6594d8f4cbf19f97940f81e996739fb7646882a419484c72d19e05852a7e"
   }
  }
 },
 "nbformat": 4,
 "nbformat_minor": 2
}
